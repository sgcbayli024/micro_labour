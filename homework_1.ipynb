{
 "cells": [
  {
   "cell_type": "markdown",
   "metadata": {},
   "source": [
    "# Assignment 1 "
   ]
  },
  {
   "cell_type": "markdown",
   "metadata": {},
   "source": [
    "# ECON8502 - Structural Microeconometrics"
   ]
  },
  {
   "cell_type": "markdown",
   "metadata": {},
   "source": [
    "Conor Bayliss"
   ]
  },
  {
   "cell_type": "markdown",
   "metadata": {},
   "source": [
    "First, import the necessary packages and load the Data following the website."
   ]
  },
  {
   "cell_type": "code",
   "execution_count": 1,
   "metadata": {},
   "outputs": [],
   "source": [
    "using CSV, DataFrames, DataFramesMeta, StatsPlots, Statistics"
   ]
  },
  {
   "cell_type": "code",
   "execution_count": 7,
   "metadata": {},
   "outputs": [
    {
     "data": {
      "text/html": [
       "<div><div style = \"float: left;\"><span>89747×10 DataFrame</span></div><div style = \"float: right;\"><span style = \"font-style: italic;\">89722 rows omitted</span></div><div style = \"clear: both;\"></div></div><div class = \"data-frame\" style = \"overflow-x: scroll;\"><table class = \"data-frame\" style = \"margin-bottom: 6px;\"><thead><tr class = \"header\"><th class = \"rowNumber\" style = \"font-weight: bold; text-align: right;\">Row</th><th style = \"text-align: left;\">MID</th><th style = \"text-align: left;\">year</th><th style = \"text-align: left;\">wage</th><th style = \"text-align: left;\">hrs</th><th style = \"text-align: left;\">earn</th><th style = \"text-align: left;\">SOI</th><th style = \"text-align: left;\">CPIU</th><th style = \"text-align: left;\">WelfH</th><th style = \"text-align: left;\">FS</th><th style = \"text-align: left;\">AFDC</th></tr><tr class = \"subheader headerLastRow\"><th class = \"rowNumber\" style = \"font-weight: bold; text-align: right;\"></th><th title = \"Int64\" style = \"text-align: left;\">Int64</th><th title = \"Int64\" style = \"text-align: left;\">Int64</th><th title = \"Union{Missing, Float64}\" style = \"text-align: left;\">Float64?</th><th title = \"Union{Missing, Int64}\" style = \"text-align: left;\">Int64?</th><th title = \"Union{Missing, Float64}\" style = \"text-align: left;\">Float64?</th><th title = \"Int64\" style = \"text-align: left;\">Int64</th><th title = \"Float64\" style = \"text-align: left;\">Float64</th><th title = \"Union{Missing, Float64}\" style = \"text-align: left;\">Float64?</th><th title = \"Union{Missing, Int64}\" style = \"text-align: left;\">Int64?</th><th title = \"Union{Missing, Bool}\" style = \"text-align: left;\">Bool?</th></tr></thead><tbody><tr><td class = \"rowNumber\" style = \"font-weight: bold; text-align: right;\">1</td><td style = \"text-align: right;\">4031</td><td style = \"text-align: right;\">1990</td><td style = \"font-style: italic; text-align: right;\">missing</td><td style = \"font-style: italic; text-align: right;\">missing</td><td style = \"font-style: italic; text-align: right;\">missing</td><td style = \"text-align: right;\">43</td><td style = \"text-align: right;\">0.758793</td><td style = \"text-align: right;\">0.0</td><td style = \"text-align: right;\">0</td><td style = \"text-align: right;\">false</td></tr><tr><td class = \"rowNumber\" style = \"font-weight: bold; text-align: right;\">2</td><td style = \"text-align: right;\">4031</td><td style = \"text-align: right;\">1991</td><td style = \"font-style: italic; text-align: right;\">missing</td><td style = \"font-style: italic; text-align: right;\">missing</td><td style = \"font-style: italic; text-align: right;\">missing</td><td style = \"text-align: right;\">43</td><td style = \"text-align: right;\">0.790786</td><td style = \"text-align: right;\">0.0</td><td style = \"text-align: right;\">0</td><td style = \"text-align: right;\">false</td></tr><tr><td class = \"rowNumber\" style = \"font-weight: bold; text-align: right;\">3</td><td style = \"text-align: right;\">4031</td><td style = \"text-align: right;\">1992</td><td style = \"font-style: italic; text-align: right;\">missing</td><td style = \"font-style: italic; text-align: right;\">missing</td><td style = \"font-style: italic; text-align: right;\">missing</td><td style = \"text-align: right;\">43</td><td style = \"text-align: right;\">0.814835</td><td style = \"text-align: right;\">0.0</td><td style = \"text-align: right;\">1</td><td style = \"text-align: right;\">false</td></tr><tr><td class = \"rowNumber\" style = \"font-weight: bold; text-align: right;\">4</td><td style = \"text-align: right;\">4031</td><td style = \"text-align: right;\">1993</td><td style = \"font-style: italic; text-align: right;\">missing</td><td style = \"font-style: italic; text-align: right;\">missing</td><td style = \"font-style: italic; text-align: right;\">missing</td><td style = \"text-align: right;\">43</td><td style = \"text-align: right;\">0.839034</td><td style = \"text-align: right;\">0.0</td><td style = \"text-align: right;\">0</td><td style = \"text-align: right;\">false</td></tr><tr><td class = \"rowNumber\" style = \"font-weight: bold; text-align: right;\">5</td><td style = \"text-align: right;\">4031</td><td style = \"text-align: right;\">1994</td><td style = \"font-style: italic; text-align: right;\">missing</td><td style = \"text-align: right;\">0</td><td style = \"text-align: right;\">0.0</td><td style = \"text-align: right;\">43</td><td style = \"text-align: right;\">0.860812</td><td style = \"text-align: right;\">1704.0</td><td style = \"text-align: right;\">1</td><td style = \"text-align: right;\">true</td></tr><tr><td class = \"rowNumber\" style = \"font-weight: bold; text-align: right;\">6</td><td style = \"text-align: right;\">4031</td><td style = \"text-align: right;\">1995</td><td style = \"font-style: italic; text-align: right;\">missing</td><td style = \"text-align: right;\">0</td><td style = \"text-align: right;\">0.0</td><td style = \"text-align: right;\">43</td><td style = \"text-align: right;\">0.88496</td><td style = \"text-align: right;\">1704.0</td><td style = \"text-align: right;\">1</td><td style = \"text-align: right;\">true</td></tr><tr><td class = \"rowNumber\" style = \"font-weight: bold; text-align: right;\">7</td><td style = \"text-align: right;\">4031</td><td style = \"text-align: right;\">1996</td><td style = \"font-style: italic; text-align: right;\">missing</td><td style = \"text-align: right;\">0</td><td style = \"text-align: right;\">0.0</td><td style = \"text-align: right;\">43</td><td style = \"text-align: right;\">0.910948</td><td style = \"text-align: right;\">1704.0</td><td style = \"text-align: right;\">1</td><td style = \"text-align: right;\">true</td></tr><tr><td class = \"rowNumber\" style = \"font-weight: bold; text-align: right;\">8</td><td style = \"text-align: right;\">4031</td><td style = \"text-align: right;\">1997</td><td style = \"font-style: italic; text-align: right;\">missing</td><td style = \"font-style: italic; text-align: right;\">missing</td><td style = \"font-style: italic; text-align: right;\">missing</td><td style = \"text-align: right;\">43</td><td style = \"text-align: right;\">0.932244</td><td style = \"font-style: italic; text-align: right;\">missing</td><td style = \"font-style: italic; text-align: right;\">missing</td><td style = \"font-style: italic; text-align: right;\">missing</td></tr><tr><td class = \"rowNumber\" style = \"font-weight: bold; text-align: right;\">9</td><td style = \"text-align: right;\">4031</td><td style = \"text-align: right;\">1998</td><td style = \"font-style: italic; text-align: right;\">missing</td><td style = \"text-align: right;\">0</td><td style = \"text-align: right;\">0.0</td><td style = \"text-align: right;\">43</td><td style = \"text-align: right;\">0.946664</td><td style = \"text-align: right;\">0.0</td><td style = \"text-align: right;\">1</td><td style = \"text-align: right;\">false</td></tr><tr><td class = \"rowNumber\" style = \"font-weight: bold; text-align: right;\">10</td><td style = \"text-align: right;\">4031</td><td style = \"text-align: right;\">1999</td><td style = \"font-style: italic; text-align: right;\">missing</td><td style = \"font-style: italic; text-align: right;\">missing</td><td style = \"font-style: italic; text-align: right;\">missing</td><td style = \"text-align: right;\">43</td><td style = \"text-align: right;\">0.967426</td><td style = \"font-style: italic; text-align: right;\">missing</td><td style = \"font-style: italic; text-align: right;\">missing</td><td style = \"font-style: italic; text-align: right;\">missing</td></tr><tr><td class = \"rowNumber\" style = \"font-weight: bold; text-align: right;\">11</td><td style = \"text-align: right;\">4031</td><td style = \"text-align: right;\">2000</td><td style = \"text-align: right;\">3.33333</td><td style = \"text-align: right;\">120</td><td style = \"text-align: right;\">400.0</td><td style = \"text-align: right;\">43</td><td style = \"text-align: right;\">1.0</td><td style = \"text-align: right;\">0.0</td><td style = \"text-align: right;\">0</td><td style = \"text-align: right;\">false</td></tr><tr><td class = \"rowNumber\" style = \"font-weight: bold; text-align: right;\">12</td><td style = \"text-align: right;\">4031</td><td style = \"text-align: right;\">2001</td><td style = \"font-style: italic; text-align: right;\">missing</td><td style = \"font-style: italic; text-align: right;\">missing</td><td style = \"font-style: italic; text-align: right;\">missing</td><td style = \"text-align: right;\">43</td><td style = \"text-align: right;\">1.02817</td><td style = \"font-style: italic; text-align: right;\">missing</td><td style = \"font-style: italic; text-align: right;\">missing</td><td style = \"font-style: italic; text-align: right;\">missing</td></tr><tr><td class = \"rowNumber\" style = \"font-weight: bold; text-align: right;\">13</td><td style = \"text-align: right;\">4031</td><td style = \"text-align: right;\">2002</td><td style = \"font-style: italic; text-align: right;\">missing</td><td style = \"text-align: right;\">0</td><td style = \"text-align: right;\">0.0</td><td style = \"text-align: right;\">43</td><td style = \"text-align: right;\">1.04457</td><td style = \"text-align: right;\">0.0</td><td style = \"text-align: right;\">0</td><td style = \"text-align: right;\">false</td></tr><tr><td style = \"text-align: right;\">&vellip;</td><td style = \"text-align: right;\">&vellip;</td><td style = \"text-align: right;\">&vellip;</td><td style = \"text-align: right;\">&vellip;</td><td style = \"text-align: right;\">&vellip;</td><td style = \"text-align: right;\">&vellip;</td><td style = \"text-align: right;\">&vellip;</td><td style = \"text-align: right;\">&vellip;</td><td style = \"text-align: right;\">&vellip;</td><td style = \"text-align: right;\">&vellip;</td><td style = \"text-align: right;\">&vellip;</td></tr><tr><td class = \"rowNumber\" style = \"font-weight: bold; text-align: right;\">89736</td><td style = \"text-align: right;\">9308002</td><td style = \"text-align: right;\">1999</td><td style = \"font-style: italic; text-align: right;\">missing</td><td style = \"font-style: italic; text-align: right;\">missing</td><td style = \"font-style: italic; text-align: right;\">missing</td><td style = \"text-align: right;\">39</td><td style = \"text-align: right;\">0.967426</td><td style = \"font-style: italic; text-align: right;\">missing</td><td style = \"font-style: italic; text-align: right;\">missing</td><td style = \"font-style: italic; text-align: right;\">missing</td></tr><tr><td class = \"rowNumber\" style = \"font-weight: bold; text-align: right;\">89737</td><td style = \"text-align: right;\">9308002</td><td style = \"text-align: right;\">2000</td><td style = \"font-style: italic; text-align: right;\">missing</td><td style = \"font-style: italic; text-align: right;\">missing</td><td style = \"font-style: italic; text-align: right;\">missing</td><td style = \"text-align: right;\">39</td><td style = \"text-align: right;\">1.0</td><td style = \"font-style: italic; text-align: right;\">missing</td><td style = \"font-style: italic; text-align: right;\">missing</td><td style = \"font-style: italic; text-align: right;\">missing</td></tr><tr><td class = \"rowNumber\" style = \"font-weight: bold; text-align: right;\">89738</td><td style = \"text-align: right;\">9308002</td><td style = \"text-align: right;\">2001</td><td style = \"font-style: italic; text-align: right;\">missing</td><td style = \"font-style: italic; text-align: right;\">missing</td><td style = \"font-style: italic; text-align: right;\">missing</td><td style = \"text-align: right;\">39</td><td style = \"text-align: right;\">1.02817</td><td style = \"font-style: italic; text-align: right;\">missing</td><td style = \"font-style: italic; text-align: right;\">missing</td><td style = \"font-style: italic; text-align: right;\">missing</td></tr><tr><td class = \"rowNumber\" style = \"font-weight: bold; text-align: right;\">89739</td><td style = \"text-align: right;\">9308002</td><td style = \"text-align: right;\">2002</td><td style = \"font-style: italic; text-align: right;\">missing</td><td style = \"font-style: italic; text-align: right;\">missing</td><td style = \"font-style: italic; text-align: right;\">missing</td><td style = \"text-align: right;\">39</td><td style = \"text-align: right;\">1.04457</td><td style = \"font-style: italic; text-align: right;\">missing</td><td style = \"font-style: italic; text-align: right;\">missing</td><td style = \"font-style: italic; text-align: right;\">missing</td></tr><tr><td class = \"rowNumber\" style = \"font-weight: bold; text-align: right;\">89740</td><td style = \"text-align: right;\">9308002</td><td style = \"text-align: right;\">2003</td><td style = \"font-style: italic; text-align: right;\">missing</td><td style = \"font-style: italic; text-align: right;\">missing</td><td style = \"font-style: italic; text-align: right;\">missing</td><td style = \"text-align: right;\">39</td><td style = \"text-align: right;\">1.06857</td><td style = \"font-style: italic; text-align: right;\">missing</td><td style = \"font-style: italic; text-align: right;\">missing</td><td style = \"font-style: italic; text-align: right;\">missing</td></tr><tr><td class = \"rowNumber\" style = \"font-weight: bold; text-align: right;\">89741</td><td style = \"text-align: right;\">9308002</td><td style = \"text-align: right;\">2004</td><td style = \"font-style: italic; text-align: right;\">missing</td><td style = \"font-style: italic; text-align: right;\">missing</td><td style = \"font-style: italic; text-align: right;\">missing</td><td style = \"text-align: right;\">39</td><td style = \"text-align: right;\">1.09708</td><td style = \"font-style: italic; text-align: right;\">missing</td><td style = \"font-style: italic; text-align: right;\">missing</td><td style = \"font-style: italic; text-align: right;\">missing</td></tr><tr><td class = \"rowNumber\" style = \"font-weight: bold; text-align: right;\">89742</td><td style = \"text-align: right;\">9308002</td><td style = \"text-align: right;\">2005</td><td style = \"font-style: italic; text-align: right;\">missing</td><td style = \"font-style: italic; text-align: right;\">missing</td><td style = \"font-style: italic; text-align: right;\">missing</td><td style = \"text-align: right;\">39</td><td style = \"text-align: right;\">1.13401</td><td style = \"font-style: italic; text-align: right;\">missing</td><td style = \"font-style: italic; text-align: right;\">missing</td><td style = \"font-style: italic; text-align: right;\">missing</td></tr><tr><td class = \"rowNumber\" style = \"font-weight: bold; text-align: right;\">89743</td><td style = \"text-align: right;\">9308002</td><td style = \"text-align: right;\">2006</td><td style = \"font-style: italic; text-align: right;\">missing</td><td style = \"font-style: italic; text-align: right;\">missing</td><td style = \"font-style: italic; text-align: right;\">missing</td><td style = \"text-align: right;\">39</td><td style = \"text-align: right;\">1.17054</td><td style = \"font-style: italic; text-align: right;\">missing</td><td style = \"font-style: italic; text-align: right;\">missing</td><td style = \"font-style: italic; text-align: right;\">missing</td></tr><tr><td class = \"rowNumber\" style = \"font-weight: bold; text-align: right;\">89744</td><td style = \"text-align: right;\">9308002</td><td style = \"text-align: right;\">2007</td><td style = \"font-style: italic; text-align: right;\">missing</td><td style = \"font-style: italic; text-align: right;\">missing</td><td style = \"font-style: italic; text-align: right;\">missing</td><td style = \"text-align: right;\">39</td><td style = \"text-align: right;\">1.20414</td><td style = \"font-style: italic; text-align: right;\">missing</td><td style = \"font-style: italic; text-align: right;\">missing</td><td style = \"font-style: italic; text-align: right;\">missing</td></tr><tr><td class = \"rowNumber\" style = \"font-weight: bold; text-align: right;\">89745</td><td style = \"text-align: right;\">9308002</td><td style = \"text-align: right;\">2008</td><td style = \"font-style: italic; text-align: right;\">missing</td><td style = \"font-style: italic; text-align: right;\">missing</td><td style = \"font-style: italic; text-align: right;\">missing</td><td style = \"text-align: right;\">39</td><td style = \"text-align: right;\">1.25008</td><td style = \"font-style: italic; text-align: right;\">missing</td><td style = \"font-style: italic; text-align: right;\">missing</td><td style = \"font-style: italic; text-align: right;\">missing</td></tr><tr><td class = \"rowNumber\" style = \"font-weight: bold; text-align: right;\">89746</td><td style = \"text-align: right;\">9308002</td><td style = \"text-align: right;\">2009</td><td style = \"font-style: italic; text-align: right;\">missing</td><td style = \"font-style: italic; text-align: right;\">missing</td><td style = \"font-style: italic; text-align: right;\">missing</td><td style = \"text-align: right;\">39</td><td style = \"text-align: right;\">1.24608</td><td style = \"font-style: italic; text-align: right;\">missing</td><td style = \"font-style: italic; text-align: right;\">missing</td><td style = \"font-style: italic; text-align: right;\">missing</td></tr><tr><td class = \"rowNumber\" style = \"font-weight: bold; text-align: right;\">89747</td><td style = \"text-align: right;\">9308002</td><td style = \"text-align: right;\">2010</td><td style = \"font-style: italic; text-align: right;\">missing</td><td style = \"font-style: italic; text-align: right;\">missing</td><td style = \"font-style: italic; text-align: right;\">missing</td><td style = \"text-align: right;\">39</td><td style = \"text-align: right;\">1.26647</td><td style = \"font-style: italic; text-align: right;\">missing</td><td style = \"font-style: italic; text-align: right;\">missing</td><td style = \"font-style: italic; text-align: right;\">missing</td></tr></tbody></table></div>"
      ],
      "text/latex": [
       "\\begin{tabular}{r|cccccccccc}\n",
       "\t& MID & year & wage & hrs & earn & SOI & CPIU & WelfH & FS & AFDC\\\\\n",
       "\t\\hline\n",
       "\t& Int64 & Int64 & Float64? & Int64? & Float64? & Int64 & Float64 & Float64? & Int64? & Bool?\\\\\n",
       "\t\\hline\n",
       "\t1 & 4031 & 1990 & \\emph{missing} & \\emph{missing} & \\emph{missing} & 43 & 0.758793 & 0.0 & 0 & 0 \\\\\n",
       "\t2 & 4031 & 1991 & \\emph{missing} & \\emph{missing} & \\emph{missing} & 43 & 0.790786 & 0.0 & 0 & 0 \\\\\n",
       "\t3 & 4031 & 1992 & \\emph{missing} & \\emph{missing} & \\emph{missing} & 43 & 0.814835 & 0.0 & 1 & 0 \\\\\n",
       "\t4 & 4031 & 1993 & \\emph{missing} & \\emph{missing} & \\emph{missing} & 43 & 0.839034 & 0.0 & 0 & 0 \\\\\n",
       "\t5 & 4031 & 1994 & \\emph{missing} & 0 & 0.0 & 43 & 0.860812 & 1704.0 & 1 & 1 \\\\\n",
       "\t6 & 4031 & 1995 & \\emph{missing} & 0 & 0.0 & 43 & 0.88496 & 1704.0 & 1 & 1 \\\\\n",
       "\t7 & 4031 & 1996 & \\emph{missing} & 0 & 0.0 & 43 & 0.910948 & 1704.0 & 1 & 1 \\\\\n",
       "\t8 & 4031 & 1997 & \\emph{missing} & \\emph{missing} & \\emph{missing} & 43 & 0.932244 & \\emph{missing} & \\emph{missing} & \\emph{missing} \\\\\n",
       "\t9 & 4031 & 1998 & \\emph{missing} & 0 & 0.0 & 43 & 0.946664 & 0.0 & 1 & 0 \\\\\n",
       "\t10 & 4031 & 1999 & \\emph{missing} & \\emph{missing} & \\emph{missing} & 43 & 0.967426 & \\emph{missing} & \\emph{missing} & \\emph{missing} \\\\\n",
       "\t11 & 4031 & 2000 & 3.33333 & 120 & 400.0 & 43 & 1.0 & 0.0 & 0 & 0 \\\\\n",
       "\t12 & 4031 & 2001 & \\emph{missing} & \\emph{missing} & \\emph{missing} & 43 & 1.02817 & \\emph{missing} & \\emph{missing} & \\emph{missing} \\\\\n",
       "\t13 & 4031 & 2002 & \\emph{missing} & 0 & 0.0 & 43 & 1.04457 & 0.0 & 0 & 0 \\\\\n",
       "\t14 & 4031 & 2003 & \\emph{missing} & \\emph{missing} & \\emph{missing} & 43 & 1.06857 & \\emph{missing} & \\emph{missing} & \\emph{missing} \\\\\n",
       "\t15 & 4031 & 2004 & \\emph{missing} & 0 & 0.0 & 43 & 1.09708 & 0.0 & 0 & 0 \\\\\n",
       "\t16 & 4031 & 2005 & \\emph{missing} & \\emph{missing} & \\emph{missing} & 43 & 1.13401 & \\emph{missing} & \\emph{missing} & \\emph{missing} \\\\\n",
       "\t17 & 4031 & 2006 & \\emph{missing} & 0 & 0.0 & 43 & 1.17054 & 142.0 & 1 & 1 \\\\\n",
       "\t18 & 4031 & 2007 & \\emph{missing} & \\emph{missing} & \\emph{missing} & 43 & 1.20414 & \\emph{missing} & \\emph{missing} & \\emph{missing} \\\\\n",
       "\t19 & 4031 & 2008 & \\emph{missing} & 0 & 0.0 & 43 & 1.25008 & 0.0 & 1 & 0 \\\\\n",
       "\t20 & 4031 & 2009 & \\emph{missing} & \\emph{missing} & \\emph{missing} & 43 & 1.24608 & \\emph{missing} & \\emph{missing} & \\emph{missing} \\\\\n",
       "\t21 & 4031 & 2010 & \\emph{missing} & 0 & 0.0 & 43 & 1.26647 & \\emph{missing} & 0 & \\emph{missing} \\\\\n",
       "\t22 & 4032 & 1990 & 1.72811 & 1736 & 3000.0 & 17 & 0.758793 & 0.0 & 0 & 0 \\\\\n",
       "\t23 & 4032 & 1991 & 9.17778 & 90 & 826.0 & 17 & 0.790786 & 0.0 & 1 & 0 \\\\\n",
       "\t24 & 4032 & 1992 & \\emph{missing} & \\emph{missing} & \\emph{missing} & 17 & 0.814835 & \\emph{missing} & \\emph{missing} & \\emph{missing} \\\\\n",
       "\t$\\dots$ & $\\dots$ & $\\dots$ & $\\dots$ & $\\dots$ & $\\dots$ & $\\dots$ & $\\dots$ & $\\dots$ & $\\dots$ & $\\dots$ \\\\\n",
       "\\end{tabular}\n"
      ],
      "text/plain": [
       "\u001b[1m89747×10 DataFrame\u001b[0m\n",
       "\u001b[1m   Row \u001b[0m│\u001b[1m MID     \u001b[0m\u001b[1m year  \u001b[0m\u001b[1m wage          \u001b[0m\u001b[1m hrs     \u001b[0m\u001b[1m earn      \u001b[0m\u001b[1m SOI   \u001b[0m\u001b[1m CPIU     \u001b[0m\u001b[1m W\u001b[0m ⋯\n",
       "       │\u001b[90m Int64   \u001b[0m\u001b[90m Int64 \u001b[0m\u001b[90m Float64?      \u001b[0m\u001b[90m Int64?  \u001b[0m\u001b[90m Float64?  \u001b[0m\u001b[90m Int64 \u001b[0m\u001b[90m Float64  \u001b[0m\u001b[90m F\u001b[0m ⋯\n",
       "───────┼────────────────────────────────────────────────────────────────────────\n",
       "     1 │    4031   1990 \u001b[90m missing       \u001b[0m\u001b[90m missing \u001b[0m\u001b[90m missing   \u001b[0m    43  0.758793    ⋯\n",
       "     2 │    4031   1991 \u001b[90m missing       \u001b[0m\u001b[90m missing \u001b[0m\u001b[90m missing   \u001b[0m    43  0.790786\n",
       "     3 │    4031   1992 \u001b[90m missing       \u001b[0m\u001b[90m missing \u001b[0m\u001b[90m missing   \u001b[0m    43  0.814835\n",
       "     4 │    4031   1993 \u001b[90m missing       \u001b[0m\u001b[90m missing \u001b[0m\u001b[90m missing   \u001b[0m    43  0.839034\n",
       "     5 │    4031   1994 \u001b[90m missing       \u001b[0m       0        0.0     43  0.860812    ⋯\n",
       "     6 │    4031   1995 \u001b[90m missing       \u001b[0m       0        0.0     43  0.88496\n",
       "     7 │    4031   1996 \u001b[90m missing       \u001b[0m       0        0.0     43  0.910948\n",
       "     8 │    4031   1997 \u001b[90m missing       \u001b[0m\u001b[90m missing \u001b[0m\u001b[90m missing   \u001b[0m    43  0.932244 \u001b[90m m\u001b[0m\n",
       "   ⋮   │    ⋮       ⋮          ⋮           ⋮         ⋮        ⋮       ⋮        ⋱\n",
       " 89741 │ 9308002   2004 \u001b[90m missing       \u001b[0m\u001b[90m missing \u001b[0m\u001b[90m missing   \u001b[0m    39  1.09708  \u001b[90m m\u001b[0m ⋯\n",
       " 89742 │ 9308002   2005 \u001b[90m missing       \u001b[0m\u001b[90m missing \u001b[0m\u001b[90m missing   \u001b[0m    39  1.13401  \u001b[90m m\u001b[0m\n",
       " 89743 │ 9308002   2006 \u001b[90m missing       \u001b[0m\u001b[90m missing \u001b[0m\u001b[90m missing   \u001b[0m    39  1.17054  \u001b[90m m\u001b[0m\n",
       " 89744 │ 9308002   2007 \u001b[90m missing       \u001b[0m\u001b[90m missing \u001b[0m\u001b[90m missing   \u001b[0m    39  1.20414  \u001b[90m m\u001b[0m\n",
       " 89745 │ 9308002   2008 \u001b[90m missing       \u001b[0m\u001b[90m missing \u001b[0m\u001b[90m missing   \u001b[0m    39  1.25008  \u001b[90m m\u001b[0m ⋯\n",
       " 89746 │ 9308002   2009 \u001b[90m missing       \u001b[0m\u001b[90m missing \u001b[0m\u001b[90m missing   \u001b[0m    39  1.24608  \u001b[90m m\u001b[0m\n",
       " 89747 │ 9308002   2010 \u001b[90m missing       \u001b[0m\u001b[90m missing \u001b[0m\u001b[90m missing   \u001b[0m    39  1.26647  \u001b[90m m\u001b[0m\n",
       "\u001b[36m                                                3 columns and 89732 rows omitted\u001b[0m"
      ]
     },
     "metadata": {},
     "output_type": "display_data"
    }
   ],
   "source": [
    "data = @chain begin # Using DataFramesMeta to chain together commands\n",
    "    CSV.read(\"C:/Users/bayle/Documents/MainPanelFile.csv\", DataFrame, missingstring=\"NA\")\n",
    "    @select :MID :year :wage :hrs :earn :SOI :CPIU :WelfH :FSInd # Selecting the columns we want\n",
    "    @subset :year.>=1985 :year.<=2010 # Subsetting the data to the years we want\n",
    "    @transform :AFDC = :WelfH.>0 # Creating a new column for AFDC; does this household receive welfare?\n",
    "    @rename :FS = :FSInd  # Renaming the FSInd column to FS\n",
    "end"
   ]
  },
  {
   "cell_type": "markdown",
   "metadata": {},
   "source": [
    "# Question 1"
   ]
  },
  {
   "cell_type": "markdown",
   "metadata": {},
   "source": [
    "In this question, we are asked calculate average welfare participation (AFDC) by year and plot it. In particular, we are asked to comment on the pre- and post-1996 trends in the data. In 1996, as discussed in class, there were substantial reforms to welfare programmes in the United States. "
   ]
  },
  {
   "cell_type": "code",
   "execution_count": null,
   "metadata": {},
   "outputs": [],
   "source": []
  }
 ],
 "metadata": {
  "kernelspec": {
   "display_name": "Julia 1.10.1",
   "language": "julia",
   "name": "julia-1.10"
  },
  "language_info": {
   "file_extension": ".jl",
   "mimetype": "application/julia",
   "name": "julia",
   "version": "1.10.1"
  }
 },
 "nbformat": 4,
 "nbformat_minor": 2
}
