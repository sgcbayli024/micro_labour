{
 "cells": [
  {
   "cell_type": "markdown",
   "metadata": {},
   "source": [
    "# **Assignment 3**"
   ]
  },
  {
   "cell_type": "markdown",
   "metadata": {},
   "source": [
    "## **ECON8502 - Structural Microeconometrics**"
   ]
  },
  {
   "cell_type": "markdown",
   "metadata": {},
   "source": [
    "### Conor Bayliss"
   ]
  },
  {
   "cell_type": "markdown",
   "metadata": {},
   "source": [
    "#### **Setup**"
   ]
  },
  {
   "cell_type": "code",
   "execution_count": 3,
   "metadata": {},
   "outputs": [],
   "source": [
    "using Optim, Distributions, Statistics, CSV, DataFrames, Plots, DataFramesMeta, LinearAlgebra"
   ]
  },
  {
   "cell_type": "markdown",
   "metadata": {},
   "source": [
    "#### **Question 1**"
   ]
  },
  {
   "cell_type": "markdown",
   "metadata": {},
   "source": [
    "**Write a function `calc_vj` which calculates the choice-specific value (i.e. the deterministic value of the choice) of a particular choice $j$ in a particular time period $t$ given the state and other exogenous variables. If you are confident you can code this however you like, but given the existing setup you might like to write the function in a way that takes the following inputs:\n",
    "\n",
    "* `j`: the discrete choice\n",
    "* `t`: the time period in the model\n",
    "* `state`: a tuple that contains the state $(k_{\\tau}, k_{\\epsilon}, k_{\\omega})$ as well as a linear indexing rule\n",
    "* `V`: a vector that contains the continuation value for each state at time `t+1`\n",
    "* `pars`: the parameters of the model\n",
    "* `md`: an instance of the `model_data` object that holds all relevant state variables\n",
    "\n",
    "Verify that your function works by testing it on the `model_data` instance created by `test_model`. Use the `@time` macro to look at evaluation time and memory allocations.\n"
   ]
  },
  {
   "cell_type": "code",
   "execution_count": 1,
   "metadata": {},
   "outputs": [],
   "source": []
  },
  {
   "cell_type": "markdown",
   "metadata": {},
   "source": [
    "#### **Question 2**"
   ]
  },
  {
   "cell_type": "markdown",
   "metadata": {},
   "source": [
    "Write a function called `iterate!` that iterates over all states at time period $t$ and fills in choice probabilities and continuation values for period $t$ in pre-allocated arrays. Again, you can do this however you like but here is a suggested set of inputs:\n",
    "\n",
    "* `t`: the time period\n",
    "* `logP`: a $J$ x $K$ x $T$ array of choice probabilities where the function will fill in `logP[:,:,t]`\n",
    "* `V`: a $K$ x $T$ array of continuation values\n",
    "* `state_idx`: a named tuple that contains the size of the overall state space, a linear indexing rule that maps $(k_{\\tau}, k_{\\epsilon}, k_{\\omega})$ to an overall state $k$, and a Cartesian Indexing rule that inverts the mapping\n",
    "* `vj`: a $J$-dimensional vector that, for each state, can be used as a container for the choice-specific values\n",
    "* `pars`: model parameters\n",
    "* `md`: `model_data` for the problem\n",
    "\n",
    "Verify that your function works by testing it on the `model_data` instance created by `test_model`. Use the `@time` macro to look at evaluation time and memory allocations."
   ]
  },
  {
   "cell_type": "code",
   "execution_count": 2,
   "metadata": {},
   "outputs": [],
   "source": []
  },
  {
   "cell_type": "markdown",
   "metadata": {},
   "source": [
    "#### **Question 3**"
   ]
  },
  {
   "cell_type": "markdown",
   "metadata": {},
   "source": [
    "Write a function called `solve!` that performs backward induction to calculate continuation values and choice probabilities (storing them in pre-allocated arrays) in every period of the data across the whole state space. As before, some suggested inputs:\n",
    "\n",
    "* `logP`: a $J$x$K$x$T$ array for the choice probabilities \n",
    "* `V`: a $K$ x $T$ array for continuation values\n",
    "* `vj`: a container or buffer for choice-specific values in each iteration\n",
    "* `pars`: model parameters\n",
    "* `md`: an instance of `model_data`\n",
    "\n",
    "Verify that your function works by testing it on the `model_data` instance created by `test_model`. Use the `@time` macro to look at evaluation time and memory allocations."
   ]
  },
  {
   "cell_type": "code",
   "execution_count": 4,
   "metadata": {},
   "outputs": [],
   "source": []
  }
 ],
 "metadata": {
  "kernelspec": {
   "display_name": "Julia 1.10.1",
   "language": "julia",
   "name": "julia-1.10"
  },
  "language_info": {
   "file_extension": ".jl",
   "mimetype": "application/julia",
   "name": "julia",
   "version": "1.10.1"
  }
 },
 "nbformat": 4,
 "nbformat_minor": 2
}
