{
 "cells": [
  {
   "cell_type": "markdown",
   "metadata": {},
   "source": [
    "# **Assignment 3**"
   ]
  },
  {
   "cell_type": "markdown",
   "metadata": {},
   "source": [
    "## **ECON8502 - Structural Microeconometrics**"
   ]
  },
  {
   "cell_type": "markdown",
   "metadata": {},
   "source": [
    "### Conor Bayliss"
   ]
  },
  {
   "cell_type": "markdown",
   "metadata": {},
   "source": [
    "#### **Setup**"
   ]
  },
  {
   "cell_type": "code",
   "execution_count": 1,
   "metadata": {},
   "outputs": [],
   "source": [
    "using Optim, Distributions, Statistics, CSV, DataFrames, Plots, DataFramesMeta, LinearAlgebra"
   ]
  },
  {
   "cell_type": "markdown",
   "metadata": {},
   "source": [
    "##### **Source code for the model**"
   ]
  },
  {
   "cell_type": "code",
   "execution_count": 10,
   "metadata": {},
   "outputs": [
    {
     "name": "stderr",
     "output_type": "stream",
     "text": [
      "WARNING: replacing module Transfers.\n"
     ]
    },
    {
     "data": {
      "text/plain": [
       "plain_logit (generic function with 1 method)"
      ]
     },
     "metadata": {},
     "output_type": "display_data"
    }
   ],
   "source": [
    "include(\"C:\\\\Users\\\\bayle\\\\Documents\\\\Github\\\\micro_labour\\\\src\\\\model.jl\")"
   ]
  },
  {
   "cell_type": "markdown",
   "metadata": {},
   "source": [
    "##### **Setting up exogenous state variables**"
   ]
  },
  {
   "cell_type": "code",
   "execution_count": 11,
   "metadata": {},
   "outputs": [],
   "source": [
    "struct model_data\n",
    "    T::Int64 #<- length of problem\n",
    "\n",
    "    y0::Int64 #<- year to begin problem\n",
    "    age0::Int64 # <- mother's age at start of problem\n",
    "    SOI::Vector{Int64} #<- state SOI in each year\n",
    "    num_kids::Vector{Int64} #<- number of kids in household that are between age 0 and 17\n",
    "    TotKids::Int64 #<- indicares the total number of children that the mother will have over the available panel\n",
    "    age_kid::Matrix{Int64} #< age_kid[f,t] is the age of child f at time t. Will be negative if child not born yet.\n",
    "    cpi::Vector{Float64} #<- cpi\n",
    "\n",
    "    R::Vector{Int64} #<- indicates if work requirement in time t\n",
    "    Kω::Int64 #<- indicates length of time limit once introduced\n",
    "    TL::Vector{Bool} #<- indicating that time limit is in place\n",
    "end"
   ]
  },
  {
   "cell_type": "code",
   "execution_count": 19,
   "metadata": {},
   "outputs": [
    {
     "data": {
      "text/plain": [
       "(Kτ = 5, Kε = 5, β = 0.98, αC = 1.0, αθ = [0.1, 0.1, 0.1, 0.1, 0.1], αH = [0.0, 0.0, 0.0, 0.0, 0.0], αA = [0.0, 0.0, 0.0, 0.0, 0.0], αS = [0.0, 0.0, 0.0, 0.0, 0.0], αR = [0.0, 0.0], σ = [2.0, 2.0], σ_W = 2.0, σε = 2.0, βΓx = [0.0, 0.0], βΓτ = [0.0, 0.0], βw = [6.0 6.375 … 7.125 7.5; 0.0 0.0 … 0.0 0.0; 0.0 0.0 … 0.0 0.0], βτ = [0.0 0.0 0.0 0.0; 0.0 0.0 0.0 0.0; … ; 0.0 0.0 0.0 0.0; 0.0 0.0 0.0 0.0], πε = [0.2 0.2 … 0.2 0.2; 0.2 0.2 … 0.2 0.2; … ; 0.2 0.2 … 0.2 0.2; 0.2 0.2 … 0.2 0.2], εgrid = LinRange{Float64}(-1.0, 1.0, 5), αl = 1, πW = 0.8, ση = 2.0)"
      ]
     },
     "metadata": {},
     "output_type": "display_data"
    }
   ],
   "source": [
    "md = test_model()\n",
    "p = pars(5,5) #<- set Kτ = 5 and Kε = 5"
   ]
  },
  {
   "cell_type": "markdown",
   "metadata": {},
   "source": [
    "##### **Nested logit probabilities**"
   ]
  },
  {
   "cell_type": "code",
   "execution_count": 18,
   "metadata": {},
   "outputs": [
    {
     "data": {
      "text/plain": [
       "([[1], [2], [3], [4], [5], [6]], [[1, 2], [3, 4], [5, 6]])"
      ]
     },
     "metadata": {},
     "output_type": "display_data"
    }
   ],
   "source": [
    "B₁ = [[1,2],[3,4],[5,6]]\n",
    "C₁ = [[1,],[2,],[3,],[4,],[5,],[6,]]\n",
    "\n",
    "B₂ = [[1,2,3]]\n",
    "C₂ = [[1,2],[3,4],[5,6]]\n",
    "\n",
    "B = (B₁,B₂)\n",
    "C = (C₁,C₂)"
   ]
  },
  {
   "cell_type": "markdown",
   "metadata": {},
   "source": [
    "##### **Indexing the state**"
   ]
  },
  {
   "cell_type": "code",
   "execution_count": 20,
   "metadata": {},
   "outputs": [
    {
     "name": "stdout",
     "output_type": "stream",
     "text": [
      "k = 37\n",
      "k_tuple = (2, 3, 2)\n"
     ]
    },
    {
     "data": {
      "text/plain": [
       "(2, 3, 2)"
      ]
     },
     "metadata": {},
     "output_type": "display_data"
    }
   ],
   "source": [
    "# Hypothetical state space dimensions:\n",
    "Kε = 5\n",
    "Kτ = 5\n",
    "Kω = 6\n",
    "\n",
    "k_idx = LinearIndices((Kτ,Kε,Kω))\n",
    "k_inv = CartesianIndices(k_idx)\n",
    "\n",
    "# To get the aggregate index k, call:\n",
    "k = k_idx[2,3,2]\n",
    "@show k\n",
    "# Then if we have k we can work back with:\n",
    "k_tuple = Tuple(k_inv[k])\n",
    "@show k_tuple"
   ]
  },
  {
   "cell_type": "markdown",
   "metadata": {},
   "source": [
    "##### **Transition probabilities**"
   ]
  },
  {
   "cell_type": "code",
   "execution_count": 15,
   "metadata": {},
   "outputs": [
    {
     "data": {
      "text/plain": [
       "((2, 3, 4), (0.04999999999999999, 0.9, 0.04999999999999999))"
      ]
     },
     "metadata": {},
     "output_type": "display_data"
    }
   ],
   "source": [
    "fε(3,5,0.9)"
   ]
  },
  {
   "cell_type": "code",
   "execution_count": 16,
   "metadata": {},
   "outputs": [
    {
     "data": {
      "text/plain": [
       "((1, 2), (0.04999999999999999, 0.95))"
      ]
     },
     "metadata": {},
     "output_type": "display_data"
    }
   ],
   "source": [
    "fε(1,5,0.9)"
   ]
  },
  {
   "cell_type": "markdown",
   "metadata": {},
   "source": [
    "#### **Question 1**"
   ]
  },
  {
   "cell_type": "markdown",
   "metadata": {},
   "source": [
    "Write a function `calc_vj` which calculates the choice-specific value (i.e. the deterministic value of the choice) of a particular choice $j$ in a particular time period $t$ given the state and other exogenous variables. If you are confident you can code this however you like, but given the existing setup you might like to write the function in a way that takes the following inputs:\n",
    "\n",
    "* `j`: the discrete choice\n",
    "* `t`: the time period in the model\n",
    "* `state`: a tuple that contains the state $(k_{\\tau}, k_{\\epsilon}, k_{\\omega})$ as well as a linear indexing rule\n",
    "* `V`: a vector that contains the continuation value for each state at time `t+1`\n",
    "* `pars`: the parameters of the model\n",
    "* `md`: an instance of the `model_data` object that holds all relevant state variables\n",
    "\n",
    "Verify that your function works by testing it on the `model_data` instance created by `test_model`. Use the `@time` macro to look at evaluation time and memory allocations.\n"
   ]
  },
  {
   "cell_type": "markdown",
   "metadata": {},
   "source": [
    "include(\"utility.jl\")\n"
   ]
  },
  {
   "cell_type": "code",
   "execution_count": null,
   "metadata": {},
   "outputs": [],
   "source": [
    "function calc_vj(j,t,state,V,pars,md)\n",
    "    u = model.utility()\n",
    "end"
   ]
  },
  {
   "cell_type": "markdown",
   "metadata": {},
   "source": [
    "#### **Question 2**"
   ]
  },
  {
   "cell_type": "markdown",
   "metadata": {},
   "source": [
    "Write a function called `iterate!` that iterates over all states at time period $t$ and fills in choice probabilities and continuation values for period $t$ in pre-allocated arrays. Again, you can do this however you like but here is a suggested set of inputs:\n",
    "\n",
    "* `t`: the time period\n",
    "* `logP`: a $J$ x $K$ x $T$ array of choice probabilities where the function will fill in `logP[:,:,t]`\n",
    "* `V`: a $K$ x $T$ array of continuation values\n",
    "* `state_idx`: a named tuple that contains the size of the overall state space, a linear indexing rule that maps $(k_{\\tau}, k_{\\epsilon}, k_{\\omega})$ to an overall state $k$, and a Cartesian Indexing rule that inverts the mapping\n",
    "* `vj`: a $J$-dimensional vector that, for each state, can be used as a container for the choice-specific values\n",
    "* `pars`: model parameters\n",
    "* `md`: `model_data` for the problem\n",
    "\n",
    "Verify that your function works by testing it on the `model_data` instance created by `test_model`. Use the `@time` macro to look at evaluation time and memory allocations."
   ]
  },
  {
   "cell_type": "code",
   "execution_count": 2,
   "metadata": {},
   "outputs": [],
   "source": []
  },
  {
   "cell_type": "markdown",
   "metadata": {},
   "source": [
    "#### **Question 3**"
   ]
  },
  {
   "cell_type": "markdown",
   "metadata": {},
   "source": [
    "Write a function called `solve!` that performs backward induction to calculate continuation values and choice probabilities (storing them in pre-allocated arrays) in every period of the data across the whole state space. As before, some suggested inputs:\n",
    "\n",
    "* `logP`: a $J$x$K$x$T$ array for the choice probabilities \n",
    "* `V`: a $K$ x $T$ array for continuation values\n",
    "* `vj`: a container or buffer for choice-specific values in each iteration\n",
    "* `pars`: model parameters\n",
    "* `md`: an instance of `model_data`\n",
    "\n",
    "Verify that your function works by testing it on the `model_data` instance created by `test_model`. Use the `@time` macro to look at evaluation time and memory allocations."
   ]
  },
  {
   "cell_type": "code",
   "execution_count": 4,
   "metadata": {},
   "outputs": [],
   "source": []
  }
 ],
 "metadata": {
  "kernelspec": {
   "display_name": "Julia 1.10.1",
   "language": "julia",
   "name": "julia-1.10"
  },
  "language_info": {
   "file_extension": ".jl",
   "mimetype": "application/julia",
   "name": "julia",
   "version": "1.10.1"
  }
 },
 "nbformat": 4,
 "nbformat_minor": 2
}
