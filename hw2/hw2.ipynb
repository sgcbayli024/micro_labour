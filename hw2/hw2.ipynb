{
 "cells": [
  {
   "cell_type": "markdown",
   "metadata": {},
   "source": [
    "# **Assignment 2**"
   ]
  },
  {
   "cell_type": "markdown",
   "metadata": {},
   "source": [
    "## **ECON8502 - Structural Microeconometrics**"
   ]
  },
  {
   "cell_type": "markdown",
   "metadata": {},
   "source": [
    "### *Conor Bayliss*"
   ]
  },
  {
   "cell_type": "markdown",
   "metadata": {},
   "source": [
    "#### **Setup**"
   ]
  },
  {
   "cell_type": "markdown",
   "metadata": {},
   "source": [
    "The first thing we do is run the setup code. This reads in the data and creates a NamedTuple \"data_mle\"."
   ]
  },
  {
   "cell_type": "code",
   "execution_count": 1,
   "metadata": {},
   "outputs": [
    {
     "data": {
      "text/html": [
       "<div><div style = \"float: left;\"><span>25615×39 DataFrame</span></div><div style = \"float: right;\"><span style = \"font-style: italic;\">25590 rows omitted</span></div><div style = \"clear: both;\"></div></div><div class = \"data-frame\" style = \"overflow-x: scroll;\"><table class = \"data-frame\" style = \"margin-bottom: 6px;\"><thead><tr class = \"header\"><th class = \"rowNumber\" style = \"font-weight: bold; text-align: right;\">Row</th><th style = \"text-align: left;\">Column1</th><th style = \"text-align: left;\">year</th><th style = \"text-align: left;\">MID</th><th style = \"text-align: left;\">intnum</th><th style = \"text-align: left;\">def_flag</th><th style = \"text-align: left;\">age</th><th style = \"text-align: left;\">knum</th><th style = \"text-align: left;\">num_child</th><th style = \"text-align: left;\">age_youngest</th><th style = \"text-align: left;\">age_oldest</th><th style = \"text-align: left;\">num_0_5</th><th style = \"text-align: left;\">num_6_12</th><th style = \"text-align: left;\">y_first</th><th style = \"text-align: left;\">cds_sample</th><th style = \"text-align: left;\">mstat</th><th style = \"text-align: left;\">mpair</th><th style = \"text-align: left;\">relhead</th><th style = \"text-align: left;\">sn</th><th style = \"text-align: left;\">state</th><th style = \"text-align: left;\">fips</th><th style = \"text-align: left;\">SOI</th><th style = \"text-align: left;\">time_limit</th><th style = \"text-align: left;\">year_TL</th><th style = \"text-align: left;\">H.WInc</th><th style = \"text-align: left;\">TotInc</th><th style = \"text-align: left;\">OthInc</th><th style = \"text-align: left;\">WelfH</th><th style = \"text-align: left;\">WelfH_tu</th><th style = \"text-align: left;\">WelfMonths</th><th style = \"text-align: left;\">FS</th><th style = \"text-align: left;\">CPIU</th><th style = \"text-align: left;\">tau</th><th style = \"text-align: left;\">hrs</th><th style = \"text-align: left;\">earn</th><th style = \"text-align: left;\">wage</th><th style = \"text-align: left;\">N</th><th style = \"text-align: left;\">AFDC</th><th style = \"text-align: left;\">P</th><th style = \"text-align: left;\">H</th></tr><tr class = \"subheader headerLastRow\"><th class = \"rowNumber\" style = \"font-weight: bold; text-align: right;\"></th><th title = \"Int64\" style = \"text-align: left;\">Int64</th><th title = \"Int64\" style = \"text-align: left;\">Int64</th><th title = \"Int64\" style = \"text-align: left;\">Int64</th><th title = \"Union{Missing, Int64}\" style = \"text-align: left;\">Int64?</th><th title = \"Bool\" style = \"text-align: left;\">Bool</th><th title = \"Int64\" style = \"text-align: left;\">Int64</th><th title = \"Int64\" style = \"text-align: left;\">Int64</th><th title = \"Int64\" style = \"text-align: left;\">Int64</th><th title = \"Float64\" style = \"text-align: left;\">Float64</th><th title = \"Int64\" style = \"text-align: left;\">Int64</th><th title = \"Int64\" style = \"text-align: left;\">Int64</th><th title = \"Int64\" style = \"text-align: left;\">Int64</th><th title = \"Int64\" style = \"text-align: left;\">Int64</th><th title = \"Bool\" style = \"text-align: left;\">Bool</th><th title = \"Bool\" style = \"text-align: left;\">Bool</th><th title = \"Union{Missing, Int64}\" style = \"text-align: left;\">Int64?</th><th title = \"Union{Missing, Int64}\" style = \"text-align: left;\">Int64?</th><th title = \"Union{Missing, Int64}\" style = \"text-align: left;\">Int64?</th><th title = \"String3\" style = \"text-align: left;\">String3</th><th title = \"Int64\" style = \"text-align: left;\">Int64</th><th title = \"Int64\" style = \"text-align: left;\">Int64</th><th title = \"Int64\" style = \"text-align: left;\">Int64</th><th title = \"Int64\" style = \"text-align: left;\">Int64</th><th title = \"Union{Missing, Float64}\" style = \"text-align: left;\">Float64?</th><th title = \"Union{Missing, Float64}\" style = \"text-align: left;\">Float64?</th><th title = \"Union{Missing, Float64}\" style = \"text-align: left;\">Float64?</th><th title = \"Union{Missing, Float64}\" style = \"text-align: left;\">Float64?</th><th title = \"Union{Missing, Int64}\" style = \"text-align: left;\">Int64?</th><th title = \"Union{Missing, Int64}\" style = \"text-align: left;\">Int64?</th><th title = \"Union{Missing, Int64}\" style = \"text-align: left;\">Int64?</th><th title = \"Float64\" style = \"text-align: left;\">Float64</th><th title = \"Union{Missing, Float64}\" style = \"text-align: left;\">Float64?</th><th title = \"Union{Missing, Int64}\" style = \"text-align: left;\">Int64?</th><th title = \"Union{Missing, Float64}\" style = \"text-align: left;\">Float64?</th><th title = \"Union{Missing, Float64}\" style = \"text-align: left;\">Float64?</th><th title = \"Union{Missing, Float64}\" style = \"text-align: left;\">Float64?</th><th title = \"Union{Missing, Bool}\" style = \"text-align: left;\">Bool?</th><th title = \"Union{Missing, Int64}\" style = \"text-align: left;\">Int64?</th><th title = \"Union{Missing, Int64}\" style = \"text-align: left;\">Int64?</th></tr></thead><tbody><tr><td class = \"rowNumber\" style = \"font-weight: bold; text-align: right;\">1</td><td style = \"text-align: right;\">5</td><td style = \"text-align: right;\">1994</td><td style = \"text-align: right;\">4031</td><td style = \"text-align: right;\">5382</td><td style = \"text-align: right;\">false</td><td style = \"text-align: right;\">21</td><td style = \"text-align: right;\">3</td><td style = \"text-align: right;\">2</td><td style = \"text-align: right;\">2.0</td><td style = \"text-align: right;\">4</td><td style = \"text-align: right;\">2</td><td style = \"text-align: right;\">0</td><td style = \"text-align: right;\">1990</td><td style = \"text-align: right;\">true</td><td style = \"text-align: right;\">true</td><td style = \"text-align: right;\">0</td><td style = \"text-align: right;\">10</td><td style = \"text-align: right;\">1</td><td style = \"text-align: left;\">TN</td><td style = \"text-align: right;\">47</td><td style = \"text-align: right;\">43</td><td style = \"text-align: right;\">18</td><td style = \"text-align: right;\">1997</td><td style = \"text-align: right;\">0.0</td><td style = \"text-align: right;\">8157.0</td><td style = \"text-align: right;\">0.0</td><td style = \"text-align: right;\">1704.0</td><td style = \"text-align: right;\">1</td><td style = \"text-align: right;\">12</td><td style = \"text-align: right;\">1</td><td style = \"text-align: right;\">0.860812</td><td style = \"font-style: italic; text-align: right;\">missing</td><td style = \"text-align: right;\">0</td><td style = \"text-align: right;\">0.0</td><td style = \"font-style: italic; text-align: right;\">missing</td><td style = \"text-align: right;\">6453.0</td><td style = \"text-align: right;\">true</td><td style = \"text-align: right;\">2</td><td style = \"text-align: right;\">0</td></tr><tr><td class = \"rowNumber\" style = \"font-weight: bold; text-align: right;\">2</td><td style = \"text-align: right;\">6</td><td style = \"text-align: right;\">1995</td><td style = \"text-align: right;\">4031</td><td style = \"text-align: right;\">2239</td><td style = \"text-align: right;\">false</td><td style = \"text-align: right;\">22</td><td style = \"text-align: right;\">3</td><td style = \"text-align: right;\">2</td><td style = \"text-align: right;\">3.0</td><td style = \"text-align: right;\">5</td><td style = \"text-align: right;\">2</td><td style = \"text-align: right;\">0</td><td style = \"text-align: right;\">1990</td><td style = \"text-align: right;\">true</td><td style = \"text-align: right;\">true</td><td style = \"text-align: right;\">0</td><td style = \"text-align: right;\">10</td><td style = \"text-align: right;\">1</td><td style = \"text-align: left;\">TN</td><td style = \"text-align: right;\">47</td><td style = \"text-align: right;\">43</td><td style = \"text-align: right;\">18</td><td style = \"text-align: right;\">1997</td><td style = \"text-align: right;\">0.0</td><td style = \"text-align: right;\">7500.0</td><td style = \"text-align: right;\">0.0</td><td style = \"text-align: right;\">1704.0</td><td style = \"text-align: right;\">5</td><td style = \"text-align: right;\">12</td><td style = \"text-align: right;\">1</td><td style = \"text-align: right;\">0.88496</td><td style = \"font-style: italic; text-align: right;\">missing</td><td style = \"text-align: right;\">0</td><td style = \"text-align: right;\">0.0</td><td style = \"font-style: italic; text-align: right;\">missing</td><td style = \"text-align: right;\">5796.0</td><td style = \"text-align: right;\">true</td><td style = \"text-align: right;\">2</td><td style = \"text-align: right;\">0</td></tr><tr><td class = \"rowNumber\" style = \"font-weight: bold; text-align: right;\">3</td><td style = \"text-align: right;\">7</td><td style = \"text-align: right;\">1996</td><td style = \"text-align: right;\">4031</td><td style = \"text-align: right;\">4246</td><td style = \"text-align: right;\">false</td><td style = \"text-align: right;\">23</td><td style = \"text-align: right;\">3</td><td style = \"text-align: right;\">3</td><td style = \"text-align: right;\">0.0</td><td style = \"text-align: right;\">6</td><td style = \"text-align: right;\">2</td><td style = \"text-align: right;\">1</td><td style = \"text-align: right;\">1990</td><td style = \"text-align: right;\">true</td><td style = \"text-align: right;\">true</td><td style = \"text-align: right;\">0</td><td style = \"text-align: right;\">10</td><td style = \"text-align: right;\">1</td><td style = \"text-align: left;\">TN</td><td style = \"text-align: right;\">47</td><td style = \"text-align: right;\">43</td><td style = \"text-align: right;\">18</td><td style = \"text-align: right;\">1997</td><td style = \"text-align: right;\">0.0</td><td style = \"text-align: right;\">7512.0</td><td style = \"text-align: right;\">0.0</td><td style = \"text-align: right;\">1704.0</td><td style = \"text-align: right;\">5</td><td style = \"text-align: right;\">12</td><td style = \"text-align: right;\">1</td><td style = \"text-align: right;\">0.910948</td><td style = \"text-align: right;\">51.8056</td><td style = \"text-align: right;\">0</td><td style = \"text-align: right;\">0.0</td><td style = \"font-style: italic; text-align: right;\">missing</td><td style = \"text-align: right;\">5808.0</td><td style = \"text-align: right;\">true</td><td style = \"text-align: right;\">2</td><td style = \"text-align: right;\">0</td></tr><tr><td class = \"rowNumber\" style = \"font-weight: bold; text-align: right;\">4</td><td style = \"text-align: right;\">9</td><td style = \"text-align: right;\">1998</td><td style = \"text-align: right;\">4031</td><td style = \"text-align: right;\">1702</td><td style = \"text-align: right;\">false</td><td style = \"text-align: right;\">25</td><td style = \"text-align: right;\">3</td><td style = \"text-align: right;\">3</td><td style = \"text-align: right;\">2.0</td><td style = \"text-align: right;\">8</td><td style = \"text-align: right;\">1</td><td style = \"text-align: right;\">2</td><td style = \"text-align: right;\">1990</td><td style = \"text-align: right;\">true</td><td style = \"text-align: right;\">true</td><td style = \"text-align: right;\">0</td><td style = \"text-align: right;\">10</td><td style = \"text-align: right;\">1</td><td style = \"text-align: left;\">TN</td><td style = \"text-align: right;\">47</td><td style = \"text-align: right;\">43</td><td style = \"text-align: right;\">18</td><td style = \"text-align: right;\">1997</td><td style = \"text-align: right;\">0.0</td><td style = \"text-align: right;\">8000.0</td><td style = \"text-align: right;\">0.0</td><td style = \"text-align: right;\">0.0</td><td style = \"text-align: right;\">0</td><td style = \"text-align: right;\">0</td><td style = \"text-align: right;\">1</td><td style = \"text-align: right;\">0.946664</td><td style = \"font-style: italic; text-align: right;\">missing</td><td style = \"text-align: right;\">0</td><td style = \"text-align: right;\">0.0</td><td style = \"font-style: italic; text-align: right;\">missing</td><td style = \"text-align: right;\">8000.0</td><td style = \"text-align: right;\">false</td><td style = \"text-align: right;\">1</td><td style = \"text-align: right;\">0</td></tr><tr><td class = \"rowNumber\" style = \"font-weight: bold; text-align: right;\">5</td><td style = \"text-align: right;\">11</td><td style = \"text-align: right;\">2000</td><td style = \"text-align: right;\">4031</td><td style = \"text-align: right;\">285</td><td style = \"text-align: right;\">false</td><td style = \"text-align: right;\">27</td><td style = \"text-align: right;\">3</td><td style = \"text-align: right;\">3</td><td style = \"text-align: right;\">4.0</td><td style = \"text-align: right;\">10</td><td style = \"text-align: right;\">1</td><td style = \"text-align: right;\">2</td><td style = \"text-align: right;\">1990</td><td style = \"text-align: right;\">true</td><td style = \"text-align: right;\">true</td><td style = \"text-align: right;\">1</td><td style = \"text-align: right;\">20</td><td style = \"text-align: right;\">2</td><td style = \"text-align: left;\">TN</td><td style = \"text-align: right;\">47</td><td style = \"text-align: right;\">43</td><td style = \"text-align: right;\">18</td><td style = \"text-align: right;\">1997</td><td style = \"text-align: right;\">30400.0</td><td style = \"text-align: right;\">37760.0</td><td style = \"text-align: right;\">0.0</td><td style = \"text-align: right;\">0.0</td><td style = \"text-align: right;\">0</td><td style = \"text-align: right;\">0</td><td style = \"text-align: right;\">0</td><td style = \"text-align: right;\">1.0</td><td style = \"font-style: italic; text-align: right;\">missing</td><td style = \"text-align: right;\">120</td><td style = \"text-align: right;\">400.0</td><td style = \"text-align: right;\">3.33333</td><td style = \"text-align: right;\">37360.0</td><td style = \"text-align: right;\">false</td><td style = \"text-align: right;\">0</td><td style = \"text-align: right;\">0</td></tr><tr><td class = \"rowNumber\" style = \"font-weight: bold; text-align: right;\">6</td><td style = \"text-align: right;\">13</td><td style = \"text-align: right;\">2002</td><td style = \"text-align: right;\">4031</td><td style = \"text-align: right;\">1427</td><td style = \"text-align: right;\">false</td><td style = \"text-align: right;\">29</td><td style = \"text-align: right;\">3</td><td style = \"text-align: right;\">3</td><td style = \"text-align: right;\">6.0</td><td style = \"text-align: right;\">12</td><td style = \"text-align: right;\">0</td><td style = \"text-align: right;\">3</td><td style = \"text-align: right;\">1990</td><td style = \"text-align: right;\">true</td><td style = \"text-align: right;\">true</td><td style = \"text-align: right;\">1</td><td style = \"text-align: right;\">20</td><td style = \"text-align: right;\">2</td><td style = \"text-align: left;\">TN</td><td style = \"text-align: right;\">47</td><td style = \"text-align: right;\">43</td><td style = \"text-align: right;\">18</td><td style = \"text-align: right;\">1997</td><td style = \"text-align: right;\">27326.0</td><td style = \"text-align: right;\">40574.0</td><td style = \"text-align: right;\">0.0</td><td style = \"text-align: right;\">0.0</td><td style = \"text-align: right;\">0</td><td style = \"text-align: right;\">0</td><td style = \"text-align: right;\">0</td><td style = \"text-align: right;\">1.04457</td><td style = \"text-align: right;\">27.5</td><td style = \"text-align: right;\">0</td><td style = \"text-align: right;\">0.0</td><td style = \"font-style: italic; text-align: right;\">missing</td><td style = \"text-align: right;\">40574.0</td><td style = \"text-align: right;\">false</td><td style = \"text-align: right;\">0</td><td style = \"text-align: right;\">0</td></tr><tr><td class = \"rowNumber\" style = \"font-weight: bold; text-align: right;\">7</td><td style = \"text-align: right;\">15</td><td style = \"text-align: right;\">2004</td><td style = \"text-align: right;\">4031</td><td style = \"text-align: right;\">1157</td><td style = \"text-align: right;\">false</td><td style = \"text-align: right;\">31</td><td style = \"text-align: right;\">3</td><td style = \"text-align: right;\">3</td><td style = \"text-align: right;\">8.0</td><td style = \"text-align: right;\">14</td><td style = \"text-align: right;\">0</td><td style = \"text-align: right;\">2</td><td style = \"text-align: right;\">1990</td><td style = \"text-align: right;\">true</td><td style = \"text-align: right;\">true</td><td style = \"text-align: right;\">1</td><td style = \"text-align: right;\">20</td><td style = \"text-align: right;\">2</td><td style = \"text-align: left;\">TN</td><td style = \"text-align: right;\">47</td><td style = \"text-align: right;\">43</td><td style = \"text-align: right;\">18</td><td style = \"text-align: right;\">1997</td><td style = \"text-align: right;\">27000.0</td><td style = \"text-align: right;\">40536.0</td><td style = \"text-align: right;\">0.0</td><td style = \"text-align: right;\">0.0</td><td style = \"text-align: right;\">0</td><td style = \"text-align: right;\">0</td><td style = \"text-align: right;\">0</td><td style = \"text-align: right;\">1.09708</td><td style = \"font-style: italic; text-align: right;\">missing</td><td style = \"text-align: right;\">0</td><td style = \"text-align: right;\">0.0</td><td style = \"font-style: italic; text-align: right;\">missing</td><td style = \"text-align: right;\">40536.0</td><td style = \"text-align: right;\">false</td><td style = \"text-align: right;\">0</td><td style = \"text-align: right;\">0</td></tr><tr><td class = \"rowNumber\" style = \"font-weight: bold; text-align: right;\">8</td><td style = \"text-align: right;\">17</td><td style = \"text-align: right;\">2006</td><td style = \"text-align: right;\">4031</td><td style = \"text-align: right;\">196</td><td style = \"text-align: right;\">false</td><td style = \"text-align: right;\">33</td><td style = \"text-align: right;\">3</td><td style = \"text-align: right;\">3</td><td style = \"text-align: right;\">10.0</td><td style = \"text-align: right;\">16</td><td style = \"text-align: right;\">0</td><td style = \"text-align: right;\">1</td><td style = \"text-align: right;\">1990</td><td style = \"text-align: right;\">true</td><td style = \"text-align: right;\">true</td><td style = \"text-align: right;\">1</td><td style = \"text-align: right;\">20</td><td style = \"text-align: right;\">2</td><td style = \"text-align: left;\">TN</td><td style = \"text-align: right;\">47</td><td style = \"text-align: right;\">43</td><td style = \"text-align: right;\">18</td><td style = \"text-align: right;\">1997</td><td style = \"text-align: right;\">25000.0</td><td style = \"text-align: right;\">40594.0</td><td style = \"text-align: right;\">0.0</td><td style = \"text-align: right;\">142.0</td><td style = \"text-align: right;\">6</td><td style = \"text-align: right;\">1</td><td style = \"text-align: right;\">1</td><td style = \"text-align: right;\">1.17054</td><td style = \"font-style: italic; text-align: right;\">missing</td><td style = \"text-align: right;\">0</td><td style = \"text-align: right;\">0.0</td><td style = \"font-style: italic; text-align: right;\">missing</td><td style = \"text-align: right;\">40452.0</td><td style = \"text-align: right;\">true</td><td style = \"text-align: right;\">2</td><td style = \"text-align: right;\">0</td></tr><tr><td class = \"rowNumber\" style = \"font-weight: bold; text-align: right;\">9</td><td style = \"text-align: right;\">19</td><td style = \"text-align: right;\">2008</td><td style = \"text-align: right;\">4031</td><td style = \"text-align: right;\">684</td><td style = \"text-align: right;\">false</td><td style = \"text-align: right;\">35</td><td style = \"text-align: right;\">3</td><td style = \"text-align: right;\">3</td><td style = \"text-align: right;\">12.0</td><td style = \"text-align: right;\">18</td><td style = \"text-align: right;\">0</td><td style = \"text-align: right;\">1</td><td style = \"text-align: right;\">1990</td><td style = \"text-align: right;\">true</td><td style = \"text-align: right;\">true</td><td style = \"text-align: right;\">1</td><td style = \"text-align: right;\">20</td><td style = \"text-align: right;\">2</td><td style = \"text-align: left;\">TN</td><td style = \"text-align: right;\">47</td><td style = \"text-align: right;\">43</td><td style = \"text-align: right;\">18</td><td style = \"text-align: right;\">1997</td><td style = \"text-align: right;\">25000.0</td><td style = \"text-align: right;\">43398.0</td><td style = \"text-align: right;\">0.0</td><td style = \"text-align: right;\">0.0</td><td style = \"text-align: right;\">0</td><td style = \"text-align: right;\">0</td><td style = \"text-align: right;\">1</td><td style = \"text-align: right;\">1.25008</td><td style = \"font-style: italic; text-align: right;\">missing</td><td style = \"text-align: right;\">0</td><td style = \"text-align: right;\">0.0</td><td style = \"font-style: italic; text-align: right;\">missing</td><td style = \"text-align: right;\">43398.0</td><td style = \"text-align: right;\">false</td><td style = \"text-align: right;\">1</td><td style = \"text-align: right;\">0</td></tr><tr><td class = \"rowNumber\" style = \"font-weight: bold; text-align: right;\">10</td><td style = \"text-align: right;\">29</td><td style = \"text-align: right;\">1990</td><td style = \"text-align: right;\">4032</td><td style = \"text-align: right;\">6773</td><td style = \"text-align: right;\">false</td><td style = \"text-align: right;\">17</td><td style = \"text-align: right;\">1</td><td style = \"text-align: right;\">1</td><td style = \"text-align: right;\">0.0</td><td style = \"text-align: right;\">0</td><td style = \"text-align: right;\">1</td><td style = \"text-align: right;\">0</td><td style = \"text-align: right;\">1990</td><td style = \"text-align: right;\">false</td><td style = \"text-align: right;\">true</td><td style = \"text-align: right;\">1</td><td style = \"text-align: right;\">20</td><td style = \"text-align: right;\">2</td><td style = \"text-align: left;\">KS</td><td style = \"text-align: right;\">20</td><td style = \"text-align: right;\">17</td><td style = \"text-align: right;\">60</td><td style = \"text-align: right;\">1997</td><td style = \"text-align: right;\">17500.0</td><td style = \"text-align: right;\">17500.0</td><td style = \"text-align: right;\">0.0</td><td style = \"text-align: right;\">0.0</td><td style = \"font-style: italic; text-align: right;\">missing</td><td style = \"text-align: right;\">0</td><td style = \"text-align: right;\">0</td><td style = \"text-align: right;\">0.758793</td><td style = \"font-style: italic; text-align: right;\">missing</td><td style = \"text-align: right;\">1736</td><td style = \"text-align: right;\">3000.0</td><td style = \"text-align: right;\">2.27745</td><td style = \"text-align: right;\">14500.0</td><td style = \"text-align: right;\">false</td><td style = \"text-align: right;\">0</td><td style = \"text-align: right;\">2</td></tr><tr><td class = \"rowNumber\" style = \"font-weight: bold; text-align: right;\">11</td><td style = \"text-align: right;\">30</td><td style = \"text-align: right;\">1991</td><td style = \"text-align: right;\">4032</td><td style = \"text-align: right;\">2797</td><td style = \"text-align: right;\">false</td><td style = \"text-align: right;\">18</td><td style = \"text-align: right;\">1</td><td style = \"text-align: right;\">1</td><td style = \"text-align: right;\">1.0</td><td style = \"text-align: right;\">1</td><td style = \"text-align: right;\">1</td><td style = \"text-align: right;\">0</td><td style = \"text-align: right;\">1990</td><td style = \"text-align: right;\">false</td><td style = \"text-align: right;\">true</td><td style = \"text-align: right;\">1</td><td style = \"text-align: right;\">20</td><td style = \"text-align: right;\">2</td><td style = \"text-align: left;\">KS</td><td style = \"text-align: right;\">20</td><td style = \"text-align: right;\">17</td><td style = \"text-align: right;\">60</td><td style = \"text-align: right;\">1997</td><td style = \"text-align: right;\">13326.0</td><td style = \"text-align: right;\">13326.0</td><td style = \"text-align: right;\">0.0</td><td style = \"text-align: right;\">0.0</td><td style = \"font-style: italic; text-align: right;\">missing</td><td style = \"text-align: right;\">0</td><td style = \"text-align: right;\">1</td><td style = \"text-align: right;\">0.790786</td><td style = \"font-style: italic; text-align: right;\">missing</td><td style = \"text-align: right;\">90</td><td style = \"text-align: right;\">826.0</td><td style = \"text-align: right;\">11.6059</td><td style = \"text-align: right;\">12500.0</td><td style = \"text-align: right;\">false</td><td style = \"text-align: right;\">1</td><td style = \"text-align: right;\">0</td></tr><tr><td class = \"rowNumber\" style = \"font-weight: bold; text-align: right;\">12</td><td style = \"text-align: right;\">68</td><td style = \"text-align: right;\">1985</td><td style = \"text-align: right;\">4179</td><td style = \"text-align: right;\">6389</td><td style = \"text-align: right;\">false</td><td style = \"text-align: right;\">19</td><td style = \"text-align: right;\">2</td><td style = \"text-align: right;\">1</td><td style = \"text-align: right;\">1.0</td><td style = \"text-align: right;\">1</td><td style = \"text-align: right;\">1</td><td style = \"text-align: right;\">0</td><td style = \"text-align: right;\">1986</td><td style = \"text-align: right;\">true</td><td style = \"text-align: right;\">false</td><td style = \"text-align: right;\">0</td><td style = \"text-align: right;\">88</td><td style = \"text-align: right;\">2</td><td style = \"text-align: left;\">TN</td><td style = \"text-align: right;\">47</td><td style = \"text-align: right;\">43</td><td style = \"text-align: right;\">18</td><td style = \"text-align: right;\">1997</td><td style = \"text-align: right;\">18580.0</td><td style = \"text-align: right;\">22980.0</td><td style = \"text-align: right;\">4400.0</td><td style = \"text-align: right;\">0.0</td><td style = \"font-style: italic; text-align: right;\">missing</td><td style = \"text-align: right;\">0</td><td style = \"text-align: right;\">0</td><td style = \"text-align: right;\">0.624884</td><td style = \"font-style: italic; text-align: right;\">missing</td><td style = \"text-align: right;\">0</td><td style = \"text-align: right;\">0.0</td><td style = \"font-style: italic; text-align: right;\">missing</td><td style = \"text-align: right;\">22980.0</td><td style = \"text-align: right;\">false</td><td style = \"text-align: right;\">0</td><td style = \"text-align: right;\">0</td></tr><tr><td class = \"rowNumber\" style = \"font-weight: bold; text-align: right;\">13</td><td style = \"text-align: right;\">69</td><td style = \"text-align: right;\">1986</td><td style = \"text-align: right;\">4179</td><td style = \"text-align: right;\">4104</td><td style = \"text-align: right;\">false</td><td style = \"text-align: right;\">20</td><td style = \"text-align: right;\">2</td><td style = \"text-align: right;\">2</td><td style = \"text-align: right;\">0.0</td><td style = \"text-align: right;\">2</td><td style = \"text-align: right;\">2</td><td style = \"text-align: right;\">0</td><td style = \"text-align: right;\">1986</td><td style = \"text-align: right;\">true</td><td style = \"text-align: right;\">false</td><td style = \"text-align: right;\">1</td><td style = \"text-align: right;\">22</td><td style = \"text-align: right;\">2</td><td style = \"text-align: left;\">TN</td><td style = \"text-align: right;\">47</td><td style = \"text-align: right;\">43</td><td style = \"text-align: right;\">18</td><td style = \"text-align: right;\">1997</td><td style = \"text-align: right;\">8000.0</td><td style = \"text-align: right;\">8000.0</td><td style = \"text-align: right;\">0.0</td><td style = \"text-align: right;\">0.0</td><td style = \"font-style: italic; text-align: right;\">missing</td><td style = \"text-align: right;\">0</td><td style = \"text-align: right;\">1</td><td style = \"text-align: right;\">0.637033</td><td style = \"font-style: italic; text-align: right;\">missing</td><td style = \"text-align: right;\">0</td><td style = \"text-align: right;\">0.0</td><td style = \"font-style: italic; text-align: right;\">missing</td><td style = \"text-align: right;\">8000.0</td><td style = \"text-align: right;\">false</td><td style = \"text-align: right;\">1</td><td style = \"text-align: right;\">0</td></tr><tr><td style = \"text-align: right;\">&vellip;</td><td style = \"text-align: right;\">&vellip;</td><td style = \"text-align: right;\">&vellip;</td><td style = \"text-align: right;\">&vellip;</td><td style = \"text-align: right;\">&vellip;</td><td style = \"text-align: right;\">&vellip;</td><td style = \"text-align: right;\">&vellip;</td><td style = \"text-align: right;\">&vellip;</td><td style = \"text-align: right;\">&vellip;</td><td style = \"text-align: right;\">&vellip;</td><td style = \"text-align: right;\">&vellip;</td><td style = \"text-align: right;\">&vellip;</td><td style = \"text-align: right;\">&vellip;</td><td style = \"text-align: right;\">&vellip;</td><td style = \"text-align: right;\">&vellip;</td><td style = \"text-align: right;\">&vellip;</td><td style = \"text-align: right;\">&vellip;</td><td style = \"text-align: right;\">&vellip;</td><td style = \"text-align: right;\">&vellip;</td><td style = \"text-align: right;\">&vellip;</td><td style = \"text-align: right;\">&vellip;</td><td style = \"text-align: right;\">&vellip;</td><td style = \"text-align: right;\">&vellip;</td><td style = \"text-align: right;\">&vellip;</td><td style = \"text-align: right;\">&vellip;</td><td style = \"text-align: right;\">&vellip;</td><td style = \"text-align: right;\">&vellip;</td><td style = \"text-align: right;\">&vellip;</td><td style = \"text-align: right;\">&vellip;</td><td style = \"text-align: right;\">&vellip;</td><td style = \"text-align: right;\">&vellip;</td><td style = \"text-align: right;\">&vellip;</td><td style = \"text-align: right;\">&vellip;</td><td style = \"text-align: right;\">&vellip;</td><td style = \"text-align: right;\">&vellip;</td><td style = \"text-align: right;\">&vellip;</td><td style = \"text-align: right;\">&vellip;</td><td style = \"text-align: right;\">&vellip;</td><td style = \"text-align: right;\">&vellip;</td><td style = \"text-align: right;\">&vellip;</td></tr><tr><td class = \"rowNumber\" style = \"font-weight: bold; text-align: right;\">25604</td><td style = \"text-align: right;\">137703</td><td style = \"text-align: right;\">1991</td><td style = \"text-align: right;\">9282002</td><td style = \"text-align: right;\">9752</td><td style = \"text-align: right;\">false</td><td style = \"text-align: right;\">26</td><td style = \"text-align: right;\">2</td><td style = \"text-align: right;\">1</td><td style = \"text-align: right;\">1.0</td><td style = \"text-align: right;\">1</td><td style = \"text-align: right;\">1</td><td style = \"text-align: right;\">0</td><td style = \"text-align: right;\">1990</td><td style = \"text-align: right;\">false</td><td style = \"text-align: right;\">false</td><td style = \"text-align: right;\">1</td><td style = \"text-align: right;\">22</td><td style = \"text-align: right;\">2</td><td style = \"text-align: left;\">CA</td><td style = \"text-align: right;\">6</td><td style = \"text-align: right;\">5</td><td style = \"text-align: right;\">60</td><td style = \"text-align: right;\">1997</td><td style = \"text-align: right;\">17000.0</td><td style = \"text-align: right;\">17000.0</td><td style = \"text-align: right;\">0.0</td><td style = \"text-align: right;\">0.0</td><td style = \"font-style: italic; text-align: right;\">missing</td><td style = \"text-align: right;\">0</td><td style = \"text-align: right;\">0</td><td style = \"text-align: right;\">0.790786</td><td style = \"font-style: italic; text-align: right;\">missing</td><td style = \"text-align: right;\">0</td><td style = \"text-align: right;\">0.0</td><td style = \"font-style: italic; text-align: right;\">missing</td><td style = \"text-align: right;\">17000.0</td><td style = \"text-align: right;\">false</td><td style = \"text-align: right;\">0</td><td style = \"text-align: right;\">0</td></tr><tr><td class = \"rowNumber\" style = \"font-weight: bold; text-align: right;\">25605</td><td style = \"text-align: right;\">137704</td><td style = \"text-align: right;\">1992</td><td style = \"text-align: right;\">9282002</td><td style = \"text-align: right;\">8422</td><td style = \"text-align: right;\">false</td><td style = \"text-align: right;\">27</td><td style = \"text-align: right;\">2</td><td style = \"text-align: right;\">2</td><td style = \"text-align: right;\">0.0</td><td style = \"text-align: right;\">2</td><td style = \"text-align: right;\">2</td><td style = \"text-align: right;\">0</td><td style = \"text-align: right;\">1990</td><td style = \"text-align: right;\">false</td><td style = \"text-align: right;\">false</td><td style = \"text-align: right;\">1</td><td style = \"text-align: right;\">22</td><td style = \"text-align: right;\">2</td><td style = \"text-align: left;\">CA</td><td style = \"text-align: right;\">6</td><td style = \"text-align: right;\">5</td><td style = \"text-align: right;\">60</td><td style = \"text-align: right;\">1997</td><td style = \"text-align: right;\">23180.0</td><td style = \"text-align: right;\">23180.0</td><td style = \"text-align: right;\">0.0</td><td style = \"text-align: right;\">0.0</td><td style = \"text-align: right;\">0</td><td style = \"text-align: right;\">0</td><td style = \"text-align: right;\">0</td><td style = \"text-align: right;\">0.814835</td><td style = \"font-style: italic; text-align: right;\">missing</td><td style = \"text-align: right;\">0</td><td style = \"text-align: right;\">0.0</td><td style = \"font-style: italic; text-align: right;\">missing</td><td style = \"text-align: right;\">23180.0</td><td style = \"text-align: right;\">false</td><td style = \"text-align: right;\">0</td><td style = \"text-align: right;\">0</td></tr><tr><td class = \"rowNumber\" style = \"font-weight: bold; text-align: right;\">25606</td><td style = \"text-align: right;\">137735</td><td style = \"text-align: right;\">1991</td><td style = \"text-align: right;\">9285001</td><td style = \"text-align: right;\">9782</td><td style = \"text-align: right;\">false</td><td style = \"text-align: right;\">21</td><td style = \"text-align: right;\">2</td><td style = \"text-align: right;\">2</td><td style = \"text-align: right;\">4.0</td><td style = \"text-align: right;\">7</td><td style = \"text-align: right;\">1</td><td style = \"text-align: right;\">1</td><td style = \"text-align: right;\">1984</td><td style = \"text-align: right;\">false</td><td style = \"text-align: right;\">false</td><td style = \"text-align: right;\">0</td><td style = \"text-align: right;\">10</td><td style = \"text-align: right;\">1</td><td style = \"text-align: left;\">TX</td><td style = \"text-align: right;\">48</td><td style = \"text-align: right;\">44</td><td style = \"text-align: right;\">12</td><td style = \"text-align: right;\">1997</td><td style = \"text-align: right;\">0.0</td><td style = \"text-align: right;\">2208.0</td><td style = \"text-align: right;\">0.0</td><td style = \"text-align: right;\">2208.0</td><td style = \"font-style: italic; text-align: right;\">missing</td><td style = \"text-align: right;\">12</td><td style = \"text-align: right;\">1</td><td style = \"text-align: right;\">0.790786</td><td style = \"font-style: italic; text-align: right;\">missing</td><td style = \"text-align: right;\">0</td><td style = \"text-align: right;\">0.0</td><td style = \"font-style: italic; text-align: right;\">missing</td><td style = \"text-align: right;\">0.0</td><td style = \"text-align: right;\">true</td><td style = \"text-align: right;\">2</td><td style = \"text-align: right;\">0</td></tr><tr><td class = \"rowNumber\" style = \"font-weight: bold; text-align: right;\">25607</td><td style = \"text-align: right;\">137736</td><td style = \"text-align: right;\">1992</td><td style = \"text-align: right;\">9285001</td><td style = \"text-align: right;\">10206</td><td style = \"text-align: right;\">false</td><td style = \"text-align: right;\">22</td><td style = \"text-align: right;\">2</td><td style = \"text-align: right;\">2</td><td style = \"text-align: right;\">5.0</td><td style = \"text-align: right;\">8</td><td style = \"text-align: right;\">1</td><td style = \"text-align: right;\">1</td><td style = \"text-align: right;\">1984</td><td style = \"text-align: right;\">false</td><td style = \"text-align: right;\">false</td><td style = \"text-align: right;\">0</td><td style = \"text-align: right;\">10</td><td style = \"text-align: right;\">1</td><td style = \"text-align: left;\">TX</td><td style = \"text-align: right;\">48</td><td style = \"text-align: right;\">44</td><td style = \"text-align: right;\">12</td><td style = \"text-align: right;\">1997</td><td style = \"text-align: right;\">0.0</td><td style = \"text-align: right;\">7584.0</td><td style = \"text-align: right;\">0.0</td><td style = \"text-align: right;\">2208.0</td><td style = \"text-align: right;\">5</td><td style = \"text-align: right;\">12</td><td style = \"text-align: right;\">1</td><td style = \"text-align: right;\">0.814835</td><td style = \"font-style: italic; text-align: right;\">missing</td><td style = \"text-align: right;\">0</td><td style = \"text-align: right;\">0.0</td><td style = \"font-style: italic; text-align: right;\">missing</td><td style = \"text-align: right;\">5376.0</td><td style = \"text-align: right;\">true</td><td style = \"text-align: right;\">2</td><td style = \"text-align: right;\">0</td></tr><tr><td class = \"rowNumber\" style = \"font-weight: bold; text-align: right;\">25608</td><td style = \"text-align: right;\">137767</td><td style = \"text-align: right;\">1991</td><td style = \"text-align: right;\">9288001</td><td style = \"text-align: right;\">9797</td><td style = \"text-align: right;\">false</td><td style = \"text-align: right;\">23</td><td style = \"text-align: right;\">2</td><td style = \"text-align: right;\">2</td><td style = \"text-align: right;\">2.0</td><td style = \"text-align: right;\">3</td><td style = \"text-align: right;\">2</td><td style = \"text-align: right;\">0</td><td style = \"text-align: right;\">1988</td><td style = \"text-align: right;\">false</td><td style = \"text-align: right;\">true</td><td style = \"text-align: right;\">0</td><td style = \"text-align: right;\">10</td><td style = \"text-align: right;\">1</td><td style = \"text-align: left;\">CT</td><td style = \"text-align: right;\">9</td><td style = \"text-align: right;\">7</td><td style = \"text-align: right;\">21</td><td style = \"text-align: right;\">1996</td><td style = \"text-align: right;\">20500.0</td><td style = \"text-align: right;\">23500.0</td><td style = \"text-align: right;\">0.0</td><td style = \"text-align: right;\">3000.0</td><td style = \"font-style: italic; text-align: right;\">missing</td><td style = \"text-align: right;\">3</td><td style = \"text-align: right;\">0</td><td style = \"text-align: right;\">0.790786</td><td style = \"font-style: italic; text-align: right;\">missing</td><td style = \"text-align: right;\">1740</td><td style = \"text-align: right;\">19500.0</td><td style = \"text-align: right;\">14.1718</td><td style = \"text-align: right;\">1000.0</td><td style = \"text-align: right;\">true</td><td style = \"text-align: right;\">1</td><td style = \"text-align: right;\">2</td></tr><tr><td class = \"rowNumber\" style = \"font-weight: bold; text-align: right;\">25609</td><td style = \"text-align: right;\">137768</td><td style = \"text-align: right;\">1992</td><td style = \"text-align: right;\">9288001</td><td style = \"text-align: right;\">5189</td><td style = \"text-align: right;\">false</td><td style = \"text-align: right;\">24</td><td style = \"text-align: right;\">2</td><td style = \"text-align: right;\">2</td><td style = \"text-align: right;\">3.0</td><td style = \"text-align: right;\">4</td><td style = \"text-align: right;\">2</td><td style = \"text-align: right;\">0</td><td style = \"text-align: right;\">1988</td><td style = \"text-align: right;\">false</td><td style = \"text-align: right;\">true</td><td style = \"text-align: right;\">0</td><td style = \"text-align: right;\">10</td><td style = \"text-align: right;\">1</td><td style = \"text-align: left;\">CT</td><td style = \"text-align: right;\">9</td><td style = \"text-align: right;\">7</td><td style = \"text-align: right;\">21</td><td style = \"text-align: right;\">1996</td><td style = \"text-align: right;\">13830.0</td><td style = \"text-align: right;\">16930.0</td><td style = \"text-align: right;\">0.0</td><td style = \"text-align: right;\">2600.0</td><td style = \"text-align: right;\">5</td><td style = \"text-align: right;\">4</td><td style = \"text-align: right;\">1</td><td style = \"text-align: right;\">0.814835</td><td style = \"font-style: italic; text-align: right;\">missing</td><td style = \"text-align: right;\">1649</td><td style = \"text-align: right;\">13830.0</td><td style = \"text-align: right;\">10.2928</td><td style = \"text-align: right;\">500.0</td><td style = \"text-align: right;\">true</td><td style = \"text-align: right;\">2</td><td style = \"text-align: right;\">2</td></tr><tr><td class = \"rowNumber\" style = \"font-weight: bold; text-align: right;\">25610</td><td style = \"text-align: right;\">137815</td><td style = \"text-align: right;\">1991</td><td style = \"text-align: right;\">9292002</td><td style = \"text-align: right;\">9685</td><td style = \"text-align: right;\">false</td><td style = \"text-align: right;\">39</td><td style = \"text-align: right;\">5</td><td style = \"text-align: right;\">3</td><td style = \"text-align: right;\">7.0</td><td style = \"text-align: right;\">17</td><td style = \"text-align: right;\">0</td><td style = \"text-align: right;\">2</td><td style = \"text-align: right;\">1970</td><td style = \"text-align: right;\">false</td><td style = \"text-align: right;\">true</td><td style = \"text-align: right;\">1</td><td style = \"text-align: right;\">20</td><td style = \"text-align: right;\">2</td><td style = \"text-align: left;\">CA</td><td style = \"text-align: right;\">6</td><td style = \"text-align: right;\">5</td><td style = \"text-align: right;\">60</td><td style = \"text-align: right;\">1997</td><td style = \"text-align: right;\">23000.0</td><td style = \"text-align: right;\">41320.0</td><td style = \"text-align: right;\">18320.0</td><td style = \"text-align: right;\">0.0</td><td style = \"font-style: italic; text-align: right;\">missing</td><td style = \"text-align: right;\">0</td><td style = \"text-align: right;\">0</td><td style = \"text-align: right;\">0.790786</td><td style = \"font-style: italic; text-align: right;\">missing</td><td style = \"text-align: right;\">2496</td><td style = \"text-align: right;\">7000.0</td><td style = \"text-align: right;\">3.54646</td><td style = \"text-align: right;\">34320.0</td><td style = \"text-align: right;\">false</td><td style = \"text-align: right;\">0</td><td style = \"text-align: right;\">2</td></tr><tr><td class = \"rowNumber\" style = \"font-weight: bold; text-align: right;\">25611</td><td style = \"text-align: right;\">137816</td><td style = \"text-align: right;\">1992</td><td style = \"text-align: right;\">9292002</td><td style = \"text-align: right;\">7118</td><td style = \"text-align: right;\">false</td><td style = \"text-align: right;\">40</td><td style = \"text-align: right;\">5</td><td style = \"text-align: right;\">3</td><td style = \"text-align: right;\">8.0</td><td style = \"text-align: right;\">18</td><td style = \"text-align: right;\">0</td><td style = \"text-align: right;\">2</td><td style = \"text-align: right;\">1970</td><td style = \"text-align: right;\">false</td><td style = \"text-align: right;\">true</td><td style = \"text-align: right;\">1</td><td style = \"text-align: right;\">20</td><td style = \"text-align: right;\">2</td><td style = \"text-align: left;\">CA</td><td style = \"text-align: right;\">6</td><td style = \"text-align: right;\">5</td><td style = \"text-align: right;\">60</td><td style = \"text-align: right;\">1997</td><td style = \"text-align: right;\">35260.0</td><td style = \"text-align: right;\">35260.0</td><td style = \"text-align: right;\">0.0</td><td style = \"text-align: right;\">0.0</td><td style = \"text-align: right;\">0</td><td style = \"text-align: right;\">0</td><td style = \"text-align: right;\">0</td><td style = \"text-align: right;\">0.814835</td><td style = \"font-style: italic; text-align: right;\">missing</td><td style = \"text-align: right;\">2448</td><td style = \"text-align: right;\">13000.0</td><td style = \"text-align: right;\">6.51722</td><td style = \"text-align: right;\">22260.0</td><td style = \"text-align: right;\">false</td><td style = \"text-align: right;\">0</td><td style = \"text-align: right;\">2</td></tr><tr><td class = \"rowNumber\" style = \"font-weight: bold; text-align: right;\">25612</td><td style = \"text-align: right;\">137884</td><td style = \"text-align: right;\">1991</td><td style = \"text-align: right;\">9293001</td><td style = \"text-align: right;\">9497</td><td style = \"text-align: right;\">false</td><td style = \"text-align: right;\">30</td><td style = \"text-align: right;\">4</td><td style = \"text-align: right;\">4</td><td style = \"text-align: right;\">3.0</td><td style = \"text-align: right;\">14</td><td style = \"text-align: right;\">1</td><td style = \"text-align: right;\">1</td><td style = \"text-align: right;\">1977</td><td style = \"text-align: right;\">false</td><td style = \"text-align: right;\">false</td><td style = \"text-align: right;\">0</td><td style = \"text-align: right;\">10</td><td style = \"text-align: right;\">1</td><td style = \"text-align: left;\">PA</td><td style = \"text-align: right;\">42</td><td style = \"text-align: right;\">39</td><td style = \"text-align: right;\">60</td><td style = \"text-align: right;\">1997</td><td style = \"text-align: right;\">0.0</td><td style = \"text-align: right;\">3534.0</td><td style = \"text-align: right;\">0.0</td><td style = \"text-align: right;\">0.0</td><td style = \"font-style: italic; text-align: right;\">missing</td><td style = \"text-align: right;\">0</td><td style = \"text-align: right;\">1</td><td style = \"text-align: right;\">0.790786</td><td style = \"font-style: italic; text-align: right;\">missing</td><td style = \"text-align: right;\">0</td><td style = \"text-align: right;\">0.0</td><td style = \"font-style: italic; text-align: right;\">missing</td><td style = \"text-align: right;\">3534.0</td><td style = \"text-align: right;\">false</td><td style = \"text-align: right;\">1</td><td style = \"text-align: right;\">0</td></tr><tr><td class = \"rowNumber\" style = \"font-weight: bold; text-align: right;\">25613</td><td style = \"text-align: right;\">137885</td><td style = \"text-align: right;\">1992</td><td style = \"text-align: right;\">9293001</td><td style = \"text-align: right;\">4842</td><td style = \"text-align: right;\">false</td><td style = \"text-align: right;\">31</td><td style = \"text-align: right;\">4</td><td style = \"text-align: right;\">4</td><td style = \"text-align: right;\">4.0</td><td style = \"text-align: right;\">15</td><td style = \"text-align: right;\">1</td><td style = \"text-align: right;\">1</td><td style = \"text-align: right;\">1977</td><td style = \"text-align: right;\">false</td><td style = \"text-align: right;\">false</td><td style = \"text-align: right;\">0</td><td style = \"text-align: right;\">10</td><td style = \"text-align: right;\">1</td><td style = \"text-align: left;\">PA</td><td style = \"text-align: right;\">42</td><td style = \"text-align: right;\">39</td><td style = \"text-align: right;\">60</td><td style = \"text-align: right;\">1997</td><td style = \"text-align: right;\">0.0</td><td style = \"text-align: right;\">7425.0</td><td style = \"text-align: right;\">369.0</td><td style = \"text-align: right;\">0.0</td><td style = \"text-align: right;\">0</td><td style = \"text-align: right;\">0</td><td style = \"text-align: right;\">1</td><td style = \"text-align: right;\">0.814835</td><td style = \"font-style: italic; text-align: right;\">missing</td><td style = \"text-align: right;\">0</td><td style = \"text-align: right;\">0.0</td><td style = \"font-style: italic; text-align: right;\">missing</td><td style = \"text-align: right;\">7425.0</td><td style = \"text-align: right;\">false</td><td style = \"text-align: right;\">1</td><td style = \"text-align: right;\">0</td></tr><tr><td class = \"rowNumber\" style = \"font-weight: bold; text-align: right;\">25614</td><td style = \"text-align: right;\">137975</td><td style = \"text-align: right;\">1991</td><td style = \"text-align: right;\">9308002</td><td style = \"text-align: right;\">9496</td><td style = \"text-align: right;\">false</td><td style = \"text-align: right;\">25</td><td style = \"text-align: right;\">2</td><td style = \"text-align: right;\">2</td><td style = \"text-align: right;\">2.0</td><td style = \"text-align: right;\">6</td><td style = \"text-align: right;\">1</td><td style = \"text-align: right;\">1</td><td style = \"text-align: right;\">1985</td><td style = \"text-align: right;\">false</td><td style = \"text-align: right;\">false</td><td style = \"text-align: right;\">0</td><td style = \"text-align: right;\">10</td><td style = \"text-align: right;\">1</td><td style = \"text-align: left;\">PA</td><td style = \"text-align: right;\">42</td><td style = \"text-align: right;\">39</td><td style = \"text-align: right;\">60</td><td style = \"text-align: right;\">1997</td><td style = \"text-align: right;\">0.0</td><td style = \"text-align: right;\">2400.0</td><td style = \"text-align: right;\">0.0</td><td style = \"text-align: right;\">0.0</td><td style = \"font-style: italic; text-align: right;\">missing</td><td style = \"text-align: right;\">0</td><td style = \"text-align: right;\">1</td><td style = \"text-align: right;\">0.790786</td><td style = \"font-style: italic; text-align: right;\">missing</td><td style = \"text-align: right;\">0</td><td style = \"text-align: right;\">0.0</td><td style = \"font-style: italic; text-align: right;\">missing</td><td style = \"text-align: right;\">2400.0</td><td style = \"text-align: right;\">false</td><td style = \"text-align: right;\">1</td><td style = \"text-align: right;\">0</td></tr><tr><td class = \"rowNumber\" style = \"font-weight: bold; text-align: right;\">25615</td><td style = \"text-align: right;\">137976</td><td style = \"text-align: right;\">1992</td><td style = \"text-align: right;\">9308002</td><td style = \"text-align: right;\">4839</td><td style = \"text-align: right;\">false</td><td style = \"text-align: right;\">26</td><td style = \"text-align: right;\">2</td><td style = \"text-align: right;\">2</td><td style = \"text-align: right;\">3.0</td><td style = \"text-align: right;\">7</td><td style = \"text-align: right;\">1</td><td style = \"text-align: right;\">1</td><td style = \"text-align: right;\">1985</td><td style = \"text-align: right;\">false</td><td style = \"text-align: right;\">false</td><td style = \"text-align: right;\">0</td><td style = \"text-align: right;\">10</td><td style = \"text-align: right;\">1</td><td style = \"text-align: left;\">PA</td><td style = \"text-align: right;\">42</td><td style = \"text-align: right;\">39</td><td style = \"text-align: right;\">60</td><td style = \"text-align: right;\">1997</td><td style = \"text-align: right;\">0.0</td><td style = \"text-align: right;\">1.0</td><td style = \"text-align: right;\">0.0</td><td style = \"text-align: right;\">0.0</td><td style = \"text-align: right;\">0</td><td style = \"text-align: right;\">0</td><td style = \"text-align: right;\">1</td><td style = \"text-align: right;\">0.814835</td><td style = \"font-style: italic; text-align: right;\">missing</td><td style = \"text-align: right;\">0</td><td style = \"text-align: right;\">0.0</td><td style = \"font-style: italic; text-align: right;\">missing</td><td style = \"text-align: right;\">1.0</td><td style = \"text-align: right;\">false</td><td style = \"text-align: right;\">1</td><td style = \"text-align: right;\">0</td></tr></tbody></table></div>"
      ],
      "text/latex": [
       "\\begin{tabular}{r|cccccccccc}\n",
       "\t& Column1 & year & MID & intnum & def\\_flag & age & knum & num\\_child & age\\_youngest & \\\\\n",
       "\t\\hline\n",
       "\t& Int64 & Int64 & Int64 & Int64? & Bool & Int64 & Int64 & Int64 & Float64 & \\\\\n",
       "\t\\hline\n",
       "\t1 & 5 & 1994 & 4031 & 5382 & 0 & 21 & 3 & 2 & 2.0 & $\\dots$ \\\\\n",
       "\t2 & 6 & 1995 & 4031 & 2239 & 0 & 22 & 3 & 2 & 3.0 & $\\dots$ \\\\\n",
       "\t3 & 7 & 1996 & 4031 & 4246 & 0 & 23 & 3 & 3 & 0.0 & $\\dots$ \\\\\n",
       "\t4 & 9 & 1998 & 4031 & 1702 & 0 & 25 & 3 & 3 & 2.0 & $\\dots$ \\\\\n",
       "\t5 & 11 & 2000 & 4031 & 285 & 0 & 27 & 3 & 3 & 4.0 & $\\dots$ \\\\\n",
       "\t6 & 13 & 2002 & 4031 & 1427 & 0 & 29 & 3 & 3 & 6.0 & $\\dots$ \\\\\n",
       "\t7 & 15 & 2004 & 4031 & 1157 & 0 & 31 & 3 & 3 & 8.0 & $\\dots$ \\\\\n",
       "\t8 & 17 & 2006 & 4031 & 196 & 0 & 33 & 3 & 3 & 10.0 & $\\dots$ \\\\\n",
       "\t9 & 19 & 2008 & 4031 & 684 & 0 & 35 & 3 & 3 & 12.0 & $\\dots$ \\\\\n",
       "\t10 & 29 & 1990 & 4032 & 6773 & 0 & 17 & 1 & 1 & 0.0 & $\\dots$ \\\\\n",
       "\t11 & 30 & 1991 & 4032 & 2797 & 0 & 18 & 1 & 1 & 1.0 & $\\dots$ \\\\\n",
       "\t12 & 68 & 1985 & 4179 & 6389 & 0 & 19 & 2 & 1 & 1.0 & $\\dots$ \\\\\n",
       "\t13 & 69 & 1986 & 4179 & 4104 & 0 & 20 & 2 & 2 & 0.0 & $\\dots$ \\\\\n",
       "\t14 & 70 & 1987 & 4179 & 3963 & 0 & 21 & 2 & 2 & 1.0 & $\\dots$ \\\\\n",
       "\t15 & 71 & 1988 & 4179 & 2780 & 0 & 22 & 2 & 2 & 2.0 & $\\dots$ \\\\\n",
       "\t16 & 72 & 1989 & 4179 & 4517 & 0 & 23 & 2 & 2 & 3.0 & $\\dots$ \\\\\n",
       "\t17 & 73 & 1990 & 4179 & 7252 & 0 & 24 & 2 & 2 & 4.0 & $\\dots$ \\\\\n",
       "\t18 & 74 & 1991 & 4179 & 5472 & 0 & 25 & 2 & 2 & 5.0 & $\\dots$ \\\\\n",
       "\t19 & 75 & 1992 & 4179 & 7439 & 0 & 26 & 2 & 2 & 6.0 & $\\dots$ \\\\\n",
       "\t20 & 76 & 1993 & 4179 & 11737 & 0 & 27 & 2 & 2 & 7.0 & $\\dots$ \\\\\n",
       "\t21 & 77 & 1994 & 4179 & 9652 & 0 & 28 & 2 & 2 & 8.0 & $\\dots$ \\\\\n",
       "\t22 & 78 & 1995 & 4179 & 5907 & 0 & 29 & 2 & 2 & 9.0 & $\\dots$ \\\\\n",
       "\t23 & 79 & 1996 & 4179 & 4773 & 0 & 30 & 2 & 2 & 10.0 & $\\dots$ \\\\\n",
       "\t24 & 81 & 1998 & 4179 & 3818 & 0 & 32 & 2 & 2 & 12.0 & $\\dots$ \\\\\n",
       "\t$\\dots$ & $\\dots$ & $\\dots$ & $\\dots$ & $\\dots$ & $\\dots$ & $\\dots$ & $\\dots$ & $\\dots$ & $\\dots$ &  \\\\\n",
       "\\end{tabular}\n"
      ],
      "text/plain": [
       "\u001b[1m25615×39 DataFrame\u001b[0m\n",
       "\u001b[1m   Row \u001b[0m│\u001b[1m Column1 \u001b[0m\u001b[1m year  \u001b[0m\u001b[1m MID     \u001b[0m\u001b[1m intnum \u001b[0m\u001b[1m def_flag \u001b[0m\u001b[1m age   \u001b[0m\u001b[1m knum  \u001b[0m\u001b[1m num_child \u001b[0m\u001b[1m a\u001b[0m ⋯\n",
       "       │\u001b[90m Int64   \u001b[0m\u001b[90m Int64 \u001b[0m\u001b[90m Int64   \u001b[0m\u001b[90m Int64? \u001b[0m\u001b[90m Bool     \u001b[0m\u001b[90m Int64 \u001b[0m\u001b[90m Int64 \u001b[0m\u001b[90m Int64     \u001b[0m\u001b[90m F\u001b[0m ⋯\n",
       "───────┼────────────────────────────────────────────────────────────────────────\n",
       "     1 │       5   1994     4031    5382     false     21      3          2    ⋯\n",
       "     2 │       6   1995     4031    2239     false     22      3          2\n",
       "     3 │       7   1996     4031    4246     false     23      3          3\n",
       "     4 │       9   1998     4031    1702     false     25      3          3\n",
       "     5 │      11   2000     4031     285     false     27      3          3    ⋯\n",
       "     6 │      13   2002     4031    1427     false     29      3          3\n",
       "     7 │      15   2004     4031    1157     false     31      3          3\n",
       "     8 │      17   2006     4031     196     false     33      3          3\n",
       "   ⋮   │    ⋮       ⋮       ⋮       ⋮        ⋮        ⋮      ⋮        ⋮        ⋱\n",
       " 25609 │  137768   1992  9288001    5189     false     24      2          2    ⋯\n",
       " 25610 │  137815   1991  9292002    9685     false     39      5          3\n",
       " 25611 │  137816   1992  9292002    7118     false     40      5          3\n",
       " 25612 │  137884   1991  9293001    9497     false     30      4          4\n",
       " 25613 │  137885   1992  9293001    4842     false     31      4          4    ⋯\n",
       " 25614 │  137975   1991  9308002    9496     false     25      2          2\n",
       " 25615 │  137976   1992  9308002    4839     false     26      2          2\n",
       "\u001b[36m                                               31 columns and 25600 rows omitted\u001b[0m"
      ]
     },
     "metadata": {},
     "output_type": "display_data"
    }
   ],
   "source": [
    "using CSV, DataFrames, DataFramesMeta, Optim, ForwardDiff\n",
    "include(\"C:\\\\Users\\\\bayle\\\\Documents\\\\Github\\\\micro_labour\\\\Transfers.jl\")\n",
    "\n",
    "data = @chain begin\n",
    "    CSV.read(\"C:\\\\Users\\\\bayle\\\\Documents\\\\Github\\\\micro_labour\\\\hw1\\\\hw1_micro_labour_data\\\\MainPanelFile.csv\", DataFrame, missingstring = \"NA\")\n",
    "    #@select :MID :year :wage :hrs :earn :SOI :CPIU :WelfH :FSInd :num_child :age\n",
    "    @subset :year.>=1985 :year.<=2010 # 1985-2010 subset\n",
    "    @transform :AFDC = :WelfH.>0 # AFDC dummy\n",
    "    @rename :FS = :FSInd # FS dummy\n",
    "    @transform :P = :FS + :AFDC :H = min.(2, round.(Union{Int64, Missing}, :hrs / (52*20))) # Create P as defined in class (0,1,2) and create H as a (0,1,2) indicator on hrs worked (0,20,40)\n",
    "    @subset .!ismissing.(:P) .&& .!ismissing.(:H) # Drop missing values\n",
    "    @transform @byrow :wage = begin # Create wage variable\n",
    "        if :hrs>0 && :earn>0 # If hours worked and earnings are positive\n",
    "            return :earn / :hrs / :CPIU # Calculate wage\n",
    "        else\n",
    "            return missing # Else return missing\n",
    "        end\n",
    "    end \n",
    "end"
   ]
  },
  {
   "cell_type": "code",
   "execution_count": 2,
   "metadata": {},
   "outputs": [
    {
     "data": {
      "text/plain": [
       "(P = [2, 2, 2, 1, 0, 0, 0, 2, 1, 0  …  2, 2, 1, 2, 0, 0, 1, 1, 1, 1], H = [0, 0, 0, 0, 0, 0, 0, 0, 0, 2  …  0, 0, 2, 2, 2, 2, 0, 0, 0, 0], year = [1994, 1995, 1996, 1998, 2000, 2002, 2004, 2006, 2008, 1990  …  1991, 1992, 1991, 1992, 1991, 1992, 1991, 1992, 1991, 1992], age = [21, 22, 23, 25, 27, 29, 31, 33, 35, 17  …  21, 22, 23, 24, 39, 40, 30, 31, 25, 26], soi = [43, 43, 43, 43, 43, 43, 43, 43, 43, 17  …  44, 44, 7, 7, 5, 5, 39, 39, 39, 39], num_kids = [2, 2, 3, 3, 3, 3, 3, 3, 3, 1  …  2, 2, 2, 2, 3, 3, 4, 4, 2, 2], cpi = [0.860812349005761, 0.884959812302546, 0.910948243820851, 0.946664188812488, 1.0, 1.04457233785542, 1.09707768072849, 1.17054218546739, 1.25008130459022, 0.758792510685746  …  0.790785866939231, 0.8148346032336, 0.790785866939231, 0.8148346032336, 0.790785866939231, 0.8148346032336, 0.790785866939231, 0.8148346032336, 0.790785866939231, 0.8148346032336], logwage = [0.0, 0.0, 0.0, 0.0, 1.2039728043259361, 0.0, 0.0, 0.0, 0.0, 0.8230555833449215  …  0.0, 0.0, 2.6512574120409043, 2.3314412292534223, 1.265948758245773, 1.8744481199656744, 0.0, 0.0, 0.0, 0.0], wage_missing = Bool[1, 1, 1, 1, 0, 1, 1, 1, 1, 0  …  1, 1, 0, 0, 0, 0, 1, 1, 1, 1])"
      ]
     },
     "metadata": {},
     "output_type": "display_data"
    }
   ],
   "source": [
    "data_mle = (;P = Int64.(data.P), H = Int64.(data.H), year = data.year, age = data.age,\n",
    "            soi = data.SOI, num_kids = data.num_child, cpi = data.CPIU,\n",
    "            logwage = log.(coalesce.(data.wage,1.)),wage_missing = ismissing.(data.wage))"
   ]
  },
  {
   "cell_type": "markdown",
   "metadata": {},
   "source": [
    "##### The Model"
   ]
  },
  {
   "cell_type": "markdown",
   "metadata": {},
   "source": [
    "In class, we defined $P_j \\in \\{0,1,2\\}$ as the indicator for welfare participation, and above we have created $H_j \\in \\{0,1,2\\}$ to indicate the choice over hours worked, with $0$ representing no hours worked, $1$ representing part-time and $2$ representing full-time employment. We are therefore going to consider a static model with 9 discrete choices. Note that there is a Type 1 extreme value shock iid over time and across individuals, $\\epsilon_j$ for choice $j$. The shocks are scaled by $\\sigma$."
   ]
  },
  {
   "cell_type": "markdown",
   "metadata": {},
   "source": [
    "Utility for individual $i$ at time $t$ is given by:\n",
    "$$\n",
    "U_{itj} = \\log(\\max\\{50, Y_{it}(W_{it}H_j)\\}) + \\alpha_l\\log(112-H_j)-\\alpha_{P,1}1\\{P_j>0\\} - \\alpha_{P,2}1\\{P_j>1\\}\n",
    "$$\n",
    "where $Y_{it}$ is net income for individual $i$ at time $t$ and depends on their earnings $(W_{it}H_j)$, the number of children in the household, and the policy environment in the individual's state of residenceeeee. \n"
   ]
  },
  {
   "cell_type": "markdown",
   "metadata": {},
   "source": [
    "Wages are a deterministic function of age only:\n",
    "$$\n",
    "\\log(W_{it}) = \\gamma_0 + \\gamma_1Age_{it}+ \\gamma_2Age_{it}^2\n",
    "$$\n",
    "and are measured with normally distributed iid measurement error:\n",
    "$$\n",
    "\\log(W_{it}^0) = \\log(W_{it}) + \\xi_{it}, \\quad  \\xi_{it} \\sim N(0, \\sigma_W^2)\n",
    "$$"
   ]
  },
  {
   "cell_type": "markdown",
   "metadata": {},
   "source": [
    "Next, we calculate utility and index choices."
   ]
  },
  {
   "cell_type": "code",
   "execution_count": 3,
   "metadata": {},
   "outputs": [
    {
     "data": {
      "text/plain": [
       "(αl = 1.0, σ = 1.0, σW = 1.0, γ = [0.0, 0.0, 0.0], Hgrid = [0.0, 20.0, 40.0], αP = [0.0, 0.0])"
      ]
     },
     "metadata": {},
     "output_type": "display_data"
    }
   ],
   "source": [
    "j_idx(p,h) = p*3 + h + 1 # index the agent's choice (p*3 since we have 3 choices for P, then add h, and finally add 1 to start at 1)\n",
    "function utility(p,h,soi,cpi,year,num_kids,wage,pars::NamedTuple)\n",
    "    (;αl,Hgrid,σ,αP) = pars\n",
    "    hrs = Hgrid[1+h]\n",
    "    earn = wage * hrs\n",
    "    net_income = max(50.,Transfers.budget(earn,0.,soi,year,num_kids,cpi,p))\n",
    "    return log(net_income) + αl*log(112-hrs)-αP[1]*(p>0)-αP[2]*(p>1)\n",
    "end\n",
    "\n",
    "pars = (;αl = 1., σ=1.,σW=1.,γ= zeros(3),\n",
    "        Hgrid = [0.,20.,40.], αP = zeros(2))"
   ]
  },
  {
   "cell_type": "markdown",
   "metadata": {},
   "source": [
    "Choice probabilities are given by the logit formula."
   ]
  },
  {
   "cell_type": "code",
   "execution_count": 4,
   "metadata": {},
   "outputs": [
    {
     "data": {
      "text/plain": [
       "choice_prob! (generic function with 1 method)"
      ]
     },
     "metadata": {},
     "output_type": "display_data"
    }
   ],
   "source": [
    "function choice_prob!(logP,it,data,pars) # note that logP is modified in place by the ! in the function name\n",
    "    (;σ,γ) = pars # unpack\n",
    "    wage = exp(γ[1] + γ[2] * data.age[it] + γ[3] * data.age[it] ^ 2)\n",
    "    denom = 0.\n",
    "    umax = -Inf\n",
    "    for p in 0:2\n",
    "        for h in 0:2\n",
    "            j = j_idx(p,h)\n",
    "            u = utility(p,h,data.soi[it],data.cpi[it],data.year[it],data.num_kids[it],wage,pars)\n",
    "            logP[j] = u/σ # log probabilities of each choice\n",
    "            umax = u>umax ? u : umax # if u > umax, umax = u, else umax = umax\n",
    "        end\n",
    "    end\n",
    "    logP[:] .+= umax/σ # elementwise subtraction #### ???why do we subtract umax/σ rather than add???\n",
    "    denom = log(sum(exp.(logP))) # log of sum of exponentials\n",
    "    logP[:] .-= denom # normalise choice probabilities\n",
    "end"
   ]
  },
  {
   "cell_type": "markdown",
   "metadata": {},
   "source": [
    "Now define the log-likelihood."
   ]
  },
  {
   "cell_type": "code",
   "execution_count": 24,
   "metadata": {},
   "outputs": [
    {
     "data": {
      "text/plain": [
       "log_likelihood (generic function with 2 methods)"
      ]
     },
     "metadata": {},
     "output_type": "display_data"
    }
   ],
   "source": [
    "function log_likelihood(logP,it,data,pars)\n",
    "    (;γ,σW) = pars\n",
    "    logL = 0.\n",
    "    if !data.wage_missing[it]\n",
    "        logL += -(0.5(data.logwage[it]-γ[1]-γ[2]*data.age[it]-γ[3]*data.age[it]^2)/σW)^2/2 - log(σW)\n",
    "    end\n",
    "    choice_prob!(logP,it,data,pars)\n",
    "    j = j_idx(data.P[it],data.H[it])\n",
    "    logL += logP[j]\n",
    "    return logL\n",
    "end\n",
    "\n",
    "\n",
    "function update(x,p)\n",
    "    αl = exp(x[1])\n",
    "    σ = exp(x[2])\n",
    "    γ = x[3:5] # slice x from 3 to 5\n",
    "    σW = exp(x[6])\n",
    "    αP = x[7:8]\n",
    "    updated_pars = (;αl=αl,σ=σ,σW=σW,γ=γ,αP=αP,Hgrid=p.Hgrid)\n",
    "    return updated_pars\n",
    "end\n",
    "\n",
    "\n",
    "function log_likelihood(x,data,pars)\n",
    "    pars = update(x,pars)\n",
    "    logP = zeros(eltype(x),9)\n",
    "    logL = 0.\n",
    "    for it in eachindex(data.P)\n",
    "        logL += log_likelihood(logP,it,data,pars)\n",
    "    end\n",
    "    return logL\n",
    "end\n"
   ]
  },
  {
   "cell_type": "markdown",
   "metadata": {},
   "source": [
    "Finally, use Optim to maximise the log-likelihood:"
   ]
  },
  {
   "cell_type": "code",
   "execution_count": 25,
   "metadata": {},
   "outputs": [
    {
     "name": "stdout",
     "output_type": "stream",
     "text": [
      "Iter     Function value   Gradient norm \n",
      "     0     6.863380e+04     4.644689e+06\n",
      " * time: 0.003999948501586914\n",
      "     1     6.783162e+04     9.075223e+04\n",
      " * time: 0.47699999809265137\n",
      "     2     6.320997e+04     6.805622e+04\n",
      " * time: 0.9919998645782471\n",
      "     3     5.759597e+04     9.535883e+06\n",
      " * time: 1.2939999103546143\n",
      "     4     5.547178e+04     6.980529e+06\n",
      " * time: 1.5319998264312744\n",
      "     5     5.231364e+04     4.581265e+06\n",
      " * time: 2.0329999923706055\n",
      "     6     5.177341e+04     4.205582e+06\n",
      " * time: 2.2939999103546143\n",
      "     7     5.086346e+04     3.405375e+06\n",
      " * time: 2.5949997901916504\n",
      "     8     5.065194e+04     1.745647e+06\n",
      " * time: 2.8489999771118164\n",
      "     9     4.903188e+04     7.185106e+05\n",
      " * time: 3.0399999618530273\n",
      "    10     4.372469e+04     3.577626e+06\n",
      " * time: 3.3429999351501465\n",
      "    11     4.074750e+04     3.265883e+06\n",
      " * time: 3.6579999923706055\n",
      "    12     4.005155e+04     1.697897e+06\n",
      " * time: 3.822999954223633\n",
      "    13     3.979198e+04     8.259920e+05\n",
      " * time: 3.9629998207092285\n",
      "    14     3.975311e+04     5.818934e+04\n",
      " * time: 4.0959999561309814\n",
      "    15     3.973328e+04     9.103585e+05\n",
      " * time: 4.236999988555908\n",
      "    16     3.970884e+04     7.852219e+04\n",
      " * time: 4.341999769210815\n",
      "    17     3.969657e+04     3.095941e+05\n",
      " * time: 4.48199987411499\n",
      "    18     3.967465e+04     6.690355e+05\n",
      " * time: 4.688999891281128\n",
      "    19     3.966022e+04     1.447074e+05\n",
      " * time: 4.892999887466431\n",
      "    20     3.965611e+04     1.517810e+04\n",
      " * time: 5.0899999141693115\n",
      "    21     3.965595e+04     2.921831e+03\n",
      " * time: 5.315999984741211\n",
      "    22     3.965594e+04     1.246597e+03\n",
      " * time: 5.552999973297119\n",
      "    23     3.965594e+04     6.488937e+02\n",
      " * time: 5.785999774932861\n",
      "    24     3.965594e+04     1.199710e+01\n",
      " * time: 6.006999969482422\n",
      "    25     3.965594e+04     1.560822e-01\n",
      " * time: 6.194999933242798\n",
      "    26     3.965594e+04     5.567410e-04\n",
      " * time: 6.366999864578247\n",
      "    27     3.965594e+04     5.326387e-04\n",
      " * time: 6.579999923706055\n",
      "    28     3.965594e+04     6.451043e-07\n",
      " * time: 6.810999870300293\n",
      "    29     3.965594e+04     3.241917e-08\n",
      " * time: 7.0269999504089355\n",
      "    30     3.965594e+04     1.232797e-08\n",
      " * time: 7.158999919891357\n",
      "    31     3.965594e+04     1.762464e-08\n",
      " * time: 7.378999948501587\n",
      "    32     3.965594e+04     1.291494e-08\n",
      " * time: 7.533999919891357\n",
      "    33     3.965594e+04     1.455965e-08\n",
      " * time: 7.680999994277954\n",
      "    34     3.965594e+04     3.972218e-08\n",
      " * time: 7.8459999561309814\n",
      "    35     3.965594e+04     1.880449e-08\n",
      " * time: 8.025999784469604\n",
      "    36     3.965594e+04     1.159196e-08\n",
      " * time: 8.29699993133545\n",
      "    37     3.965594e+04     2.814875e-08\n",
      " * time: 8.596999883651733\n",
      "    38     3.965594e+04     3.335811e-08\n",
      " * time: 8.709999799728394\n",
      "    39     3.965594e+04     2.900015e-08\n",
      " * time: 8.822999954223633\n",
      "    40     3.965594e+04     5.065431e-09\n",
      " * time: 8.959999799728394\n"
     ]
    },
    {
     "data": {
      "text/plain": [
       "(αl = 2.8546233783929407, σ = 0.9509286759263887, σW = 0.36124300314682983, γ = [-0.02362075058278817, 0.10877398375254806, -0.0012722347394311985], αP = [2.035301636135558, 1.0137619542631473], Hgrid = [0.0, 20.0, 40.0])"
      ]
     },
     "metadata": {},
     "output_type": "display_data"
    }
   ],
   "source": [
    "x0 = zeros(8)\n",
    "x0 = [0.,0.,log(10.),0.,0.,0.,0.,0.]\n",
    "res = optimize(x->-log_likelihood(x,data_mle,pars),x0,BFGS(),autodiff=:forward,Optim.Options(show_trace=true))\n",
    "pars = update(res.minimizer,pars)"
   ]
  },
  {
   "cell_type": "markdown",
   "metadata": {},
   "source": [
    "##### **Question 1**"
   ]
  },
  {
   "cell_type": "markdown",
   "metadata": {},
   "source": [
    "**Write code to calculate the standard errors for the parameters and present the estimates in a table.**"
   ]
  },
  {
   "cell_type": "markdown",
   "metadata": {},
   "source": [
    "Recall that the variance of an ML estimator, $\\hat{\\theta}^{ML}$ is calculated by the inverse of the Information matrix:\n",
    "$$\n",
    "var(\\theta) = [I(\\theta)]^{-1}\n",
    "$$\n",
    "and the Information matrix is the negative of the expected value of the Hessian matrix:\n",
    "$$\n",
    "[I(\\theta)] = -E[H(\\theta)]\n",
    "$$\n",
    "and we know that the Hessian is the matrix of the second derivatives of the likelihood with respect to the parameters:\n",
    "$$\n",
    "H(\\theta) = \\frac{\\partial \\log(L(\\theta))}{\\partial\\theta\\partial\\theta'}.\n",
    "$$\n",
    "By Cramer-Rao, the variance of any unbiased estimator of a parameter $\\theta$ must satisfy\n",
    "$$\n",
    "var(\\theta) \\geq (-E[H(\\theta)])^{-1}\n",
    "$$\n",
    "and then we have that, \n",
    "$$\n",
    "var(\\hat{\\theta}) = \\left(-E\\left[\\frac{-\\partial^2 L}{\\partial\\theta\\partial\\theta'}\\right]\\right)^{-1}\n",
    "$$\n",
    "and so, the standard errors of $\\hat{\\theta}$ are the square roots of the diagonal elements of the Hessian.\n",
    "Hence, let us use the ForwardDiff package to find the Hessian at the solution to the maximum likelihood estimation, invert the negative of said Hessian, and then find the square roots of the diagonal elements of said matrix. "
   ]
  },
  {
   "cell_type": "code",
   "execution_count": 8,
   "metadata": {},
   "outputs": [
    {
     "data": {
      "text/plain": [
       "8-element Vector{Float64}:\n",
       " 0.012843164746411556\n",
       " 0.019154147770820935\n",
       " 0.07099074793657956\n",
       " 0.004225945782349037\n",
       " 6.071678210751469e-5\n",
       " 0.005405767081368025\n",
       " 0.024051654161771664\n",
       " 0.022764191318278566"
      ]
     },
     "metadata": {},
     "output_type": "display_data"
    }
   ],
   "source": [
    "using ForwardDiff, LinearAlgebra\n",
    "\n",
    "optimal_solution = res.minimizer # Get the optimal solution\n",
    "\n",
    "hessian = ForwardDiff.hessian(x -> log_likelihood(x, data_mle, pars), optimal_solution) # Compute the Hessian at the optimal solution\n",
    "\n",
    "inv_hessian = inv(-hessian) # Calculate the inverse of the negative of the Hessian (Cramer-Rao lower bound)\n",
    "\n",
    "std_errors = sqrt.(diag(inv_hessian)) # The standard errors are the square root of the diagonal elements of the above"
   ]
  },
  {
   "cell_type": "markdown",
   "metadata": {},
   "source": [
    "Recall that the parameters we estimated were $\\{\\alpha_l, \\sigma, \\sigma_W, \\gamma_0, \\gamma_1, \\gamma_2, \\alpha_{P,1}, \\alpha_{P,2}\\}$  The table below summarises the estimates and their standard errors. Note that I present the information to 5 decimal places."
   ]
  },
  {
   "cell_type": "markdown",
   "metadata": {},
   "source": [
    "| Parameter     | Estimate  | Standard Error |\n",
    "|:-------------:|:---------------:|:-------------:|\n",
    "| $\\alpha_l$        | 2.85462          | 0.01284      |\n",
    "| $\\sigma $        | 0.95093         | 0.01915        |\n",
    "| $\\sigma_W$        | 1.02175         | 0.07099     |\n",
    "| $\\gamma_0 $        | -0.02362          | 0.00422      |\n",
    "| $\\gamma_1$        | 0.10877         | 0.00001        |\n",
    "| $\\gamma_2 $        | -0.00127         | 0.00541      |\n",
    "| $\\alpha_{P,1} $        | 2.03530          |  0.02405       |\n",
    "| $\\alpha_{P,2} $        | 1.01376          |  0.02276     |\n"
   ]
  },
  {
   "cell_type": "markdown",
   "metadata": {},
   "source": [
    "#### **Question 2**"
   ]
  },
  {
   "cell_type": "markdown",
   "metadata": {},
   "source": [
    "**What sources of variation are identifying $\\sigma$, the responsiveness of choices to changes in the payoffs? How is the responsiveness of programme participation and labour supply to changes in incentives limited in this framework?**"
   ]
  },
  {
   "cell_type": "markdown",
   "metadata": {},
   "source": []
  },
  {
   "cell_type": "markdown",
   "metadata": {},
   "source": [
    "#### **Question 3**"
   ]
  },
  {
   "cell_type": "markdown",
   "metadata": {},
   "source": [
    "**Re-estimate the model with a one layer *nested logit* structure, where the individual first makes one of the three participation choices before making one of the three hours choices. That is, if the choices can be ordered as:**\n",
    "$$\n",
    "\\{P_j\\}_{j=1}^9 = \\{0,0,0,1,1,1,2,2,2\\}, \\quad \\{H_j\\}_{j=1}^9 = \\{0,20,40,0,20,40,0,20,40\\}\n",
    "$$\n",
    "then the partition is:\n",
    "$$\n",
    "B = \\{\\{1,2,3\\},\\{4,5,6\\},\\{7,8,9\\} \\}\n",
    "$$\n",
    "**Let $\\sigma_H$ be the dispersion of shocks within each partition and $\\sigma_P$ be the dispersion of shocks across partitions. Intuitively, how are these dispersion parameters identified?**"
   ]
  },
  {
   "cell_type": "markdown",
   "metadata": {},
   "source": [
    "In this question, we need to re-estimate the model with the *nested logit* structure. Relative to what we saw in class, where individuals chose whether to work $0$ hours or $30$ hours in order to meet the work requirements, here agents choose whether to not work, work part-time, or work full-time. Denoting the dispersion of shocks *within* each partition as $\\sigma_H$ and the dispersion of shocks *across* partitions as $\\sigma_P$, we therefore see that we need to estimate $\\{\\alpha_l, \\sigma_H, \\sigma_P, \\sigma_W, \\gamma_0, \\gamma_1, \\gamma_2, \\alpha_{P,1}, \\alpha_{P,2}\\}$."
   ]
  },
  {
   "cell_type": "code",
   "execution_count": 9,
   "metadata": {},
   "outputs": [
    {
     "data": {
      "text/plain": [
       "utility_nest (generic function with 1 method)"
      ]
     },
     "metadata": {},
     "output_type": "display_data"
    }
   ],
   "source": [
    "function utility_nest(p,h,soi,cpi,year,num_kids,wage,params::NamedTuple)\n",
    "    (;αl,Hgrid_nested,αP) = params\n",
    "    hrs = Hgrid_nested[1+h]\n",
    "    earn = wage * hrs\n",
    "    net_income = max(50.,Transfers.budget(earn,0.,soi,year,num_kids,cpi,p))\n",
    "    return log(net_income) + αl*log(112-hrs)-αP[1]*(p>0)-αP[2]*(p>1)\n",
    "end"
   ]
  },
  {
   "cell_type": "code",
   "execution_count": 20,
   "metadata": {},
   "outputs": [
    {
     "data": {
      "text/plain": [
       "choice_probs_nest! (generic function with 1 method)"
      ]
     },
     "metadata": {},
     "output_type": "display_data"
    }
   ],
   "source": [
    "params = (;αl = 1., σH = 1., σP = 1.,σW=1.,γ= zeros(3),\n",
    "        Hgrid_nested = [0.,20.,40.], Pgrid_nested = [0.,1.,2.],\n",
    "        αP = zeros(2))\n",
    " \n",
    "function choice_probs_nest!(logP_nest, it, data, params)\n",
    "    (;σH,σP,γ) = params\n",
    "    wage = exp(γ[1] + γ[2] * data.age[it] + γ[3] * data.age[it] ^ 2)\n",
    "    u = zeros(eltype(logP_nest), 9)\n",
    "    for p in 0:2\n",
    "        for h in 0:2\n",
    "            j = j_idx(p,h)\n",
    "            u[j] = utility_nest(p,h,data.soi[it],data.cpi[it],data.year[it],data.num_kids[it],wage,params) #  utility for each alternative\n",
    "        end\n",
    "    end\n",
    "    u_exp = exp.(u / σH)\n",
    "    IV = σH * log.([sum(u_exp[1:3]), sum(u_exp[4:6]), sum(u_exp[7:9])]) # calculate the IV for each nest ### do we need an extra σH here??\n",
    "\n",
    "    IV_exp = exp.(IV / σP) # exponentiate the IV and divide by σP\n",
    "    nest_probs = IV_exp / sum(IV_exp) # probability of choosing a nest\n",
    "\n",
    "    for nest in 1:3\n",
    "        u_nest = log.(u_exp[(nest-1)*3+1:nest*3]) # extract the utility for the nest by slicing the utility vector\n",
    "        denom = log.(sum(u_nest)) # log of the sum of the exponentiated utility for the nest\n",
    "        u_nest[:] .-= denom # subtract the above from the utility for the nest\n",
    "        logP_nest[(nest-1)*3+1:nest*3] = log.(nest_probs[nest]) .+ u_nest # the log choice prob for a given alternative is the log of the nest prob plus the log of the within nest prob\n",
    "    end\n",
    "end"
   ]
  },
  {
   "cell_type": "code",
   "execution_count": 32,
   "metadata": {},
   "outputs": [
    {
     "data": {
      "text/plain": [
       "log_likelihood_nest (generic function with 2 methods)"
      ]
     },
     "metadata": {},
     "output_type": "display_data"
    }
   ],
   "source": [
    "function log_likelihood_nest(logP_nest, it, data, params)\n",
    "    (;γ,σW) = params\n",
    "    logL_nest = 0.\n",
    "    if !data.wage_missing[it]\n",
    "        logL_nest += -(0.5(data.logwage[it]-γ[1]-γ[2]*data.age[it]-γ[3]*data.age[it]^2)/σW)^2 - log(σW)\n",
    "    end\n",
    "    choice_probs_nest!(logP_nest, it, data, params)\n",
    "    j = j_idx(data.P[it], data.H[it])\n",
    "    logL_nest += logP_nest[j]\n",
    "    return logL_nest\n",
    "end\n",
    "\n",
    "function update_nest(x, params)\n",
    "    αl = exp(x[1])\n",
    "    σH = exp(x[2])\n",
    "    σP = exp(x[3])\n",
    "    σW = exp(x[4])\n",
    "    γ = x[5:7]\n",
    "    αP = x[8:9]\n",
    "    Hgrid_nested = [0.,20.,40.]\n",
    "    Pgrid_nested = [0.,1.,2.]\n",
    "    return (;params..., αl, σH, σP, σW, γ, αP, Hgrid_nested, Pgrid_nested)\n",
    "end\n",
    "\n",
    "function log_likelihood_nest(x, data, params)\n",
    "    params = update_nest(x, params)\n",
    "    logP_nest = zeros(eltype(x), 9)\n",
    "    logL_nest = 0.\n",
    "    for it in eachindex(data.P)\n",
    "        logL_nest += log_likelihood_nest(logP_nest, it, data, params)\n",
    "    end\n",
    "    return -logL_nest\n",
    "end"
   ]
  },
  {
   "cell_type": "code",
   "execution_count": 35,
   "metadata": {},
   "outputs": [
    {
     "name": "stdout",
     "output_type": "stream",
     "text": [
      "Iter     Function value   Gradient norm \n",
      "     0    -6.693593e+07     1.219414e+09\n",
      " * time: 0.0\n",
      "     1    -1.162874e+08     1.612739e+09\n",
      " * time: 14.450999975204468\n",
      "     2    -1.162874e+08     1.612739e+09\n",
      " * time: 26.44700002670288\n"
     ]
    },
    {
     "data": {
      "text/plain": [
       "(αl = 1.1162745115513852, σH = 1.1163407667239995, σP = 1.3498589297937567, σW = 1.1119633105990736, γ = [0.11002430007428211, 0.11088909151168083, 0.14433021079038777], Hgrid_nested = [0.0, 20.0, 40.0], Pgrid_nested = [0.0, 1.0, 2.0], αP = [0.11000006745110112, 0.1099999832639781])"
      ]
     },
     "metadata": {},
     "output_type": "display_data"
    }
   ],
   "source": [
    "x0_nest = zeros(9)\n",
    "x0_nest = [0.11,0.11,0.3,0.11,0.11,0.11,0.11,0.11,0.11]\n",
    "res_nest = optimize(x->-log_likelihood_nest(x,data_mle,params),x0_nest,BFGS(),autodiff=:forward,Optim.Options(show_trace=true))\n",
    "params = update_nest(res_nest.minimizer,params)"
   ]
  },
  {
   "cell_type": "markdown",
   "metadata": {},
   "source": [
    "#### **Question 4**"
   ]
  },
  {
   "cell_type": "markdown",
   "metadata": {},
   "source": [
    "**What sort of variation do you think is in the data that we are failing to put in our model? What do you think are the implication for key parameter estimates?**"
   ]
  },
  {
   "cell_type": "markdown",
   "metadata": {},
   "source": []
  }
 ],
 "metadata": {
  "kernelspec": {
   "display_name": "Julia 1.10.1",
   "language": "julia",
   "name": "julia-1.10"
  },
  "language_info": {
   "file_extension": ".jl",
   "mimetype": "application/julia",
   "name": "julia",
   "version": "1.10.1"
  }
 },
 "nbformat": 4,
 "nbformat_minor": 2
}
