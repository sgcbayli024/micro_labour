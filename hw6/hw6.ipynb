{
 "cells": [
  {
   "cell_type": "markdown",
   "metadata": {},
   "source": [
    "# **ECON8502: Methods for Structural Microeconometrics**"
   ]
  },
  {
   "cell_type": "markdown",
   "metadata": {},
   "source": [
    "## **Assignment 6**"
   ]
  },
  {
   "cell_type": "markdown",
   "metadata": {},
   "source": [
    "#### *Conor Bayliss*"
   ]
  },
  {
   "cell_type": "markdown",
   "metadata": {},
   "source": [
    "#### **Introduction and Setup**"
   ]
  },
  {
   "cell_type": "markdown",
   "metadata": {},
   "source": [
    "Let's return to the simple model of labour supply and programme participation from Assignment 2."
   ]
  },
  {
   "cell_type": "markdown",
   "metadata": {},
   "source": [
    "Consider the following extension to the model. Suppose that each individual $n$ belongs to one of $K$ finite types, $k(n) \\in \\{1,2,...,K\\}$. Types determine differences in the cost of work and programme participation as well as differences in wages:\n",
    "$$\n",
    "U_{ntj} = \\log(\\max\\{50, Y_{nt}(W_{nt}H_j)\\})+\\alpha_{l,k}\\log(112-H_j)-\\alpha_{P,k,1}\\mathbf{1}\\{P_j>0\\}-\\alpha_{P,k,2}\\mathbf{1}\\{P_j>1\\}\n",
    "$$\n",
    "and\n",
    "$$\n",
    "\\log(W_{nt}) = \\gamma_{k,0}+\\gamma_{k,1}\\text{Age}_{nt}+\\gamma_{k,2}\\text{Age}^2_{nt}.\n",
    "$$\n",
    "So, the parameters $\\alpha_l,\\alpha_P,\\gamma$ are now **heterogeneous by type**."
   ]
  },
  {
   "cell_type": "markdown",
   "metadata": {},
   "source": [
    "#### **Part 1**"
   ]
  },
  {
   "cell_type": "markdown",
   "metadata": {},
   "source": [
    "Write a routine to classify individuals in the data into one of $K=3$ types using K-means clustering. You may find the package `Clustering.jl` useful."
   ]
  },
  {
   "cell_type": "markdown",
   "metadata": {},
   "source": [
    "#### **Part 2**"
   ]
  },
  {
   "cell_type": "markdown",
   "metadata": {},
   "source": [
    "Calculate and plot average work and average programme participation over time for each of these types. Comment on what you are seeing."
   ]
  },
  {
   "cell_type": "markdown",
   "metadata": {},
   "source": [
    "#### **Part 3**"
   ]
  },
  {
   "cell_type": "markdown",
   "metadata": {},
   "source": [
    "Write code to estimate this extended model. You could just make a small extension to the maximum likelihood estimator you used in Assignment 2, or you could try another approach if your prefer."
   ]
  }
 ],
 "metadata": {
  "kernelspec": {
   "display_name": "Julia 1.10.1",
   "language": "julia",
   "name": "julia-1.10"
  },
  "language_info": {
   "file_extension": ".jl",
   "mimetype": "application/julia",
   "name": "julia",
   "version": "1.10.1"
  }
 },
 "nbformat": 4,
 "nbformat_minor": 2
}
