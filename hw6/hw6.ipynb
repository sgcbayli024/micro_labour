{
 "cells": [
  {
   "cell_type": "markdown",
   "metadata": {},
   "source": [
    "# **ECON8502: Methods for Structural Microeconometrics**"
   ]
  },
  {
   "cell_type": "markdown",
   "metadata": {},
   "source": [
    "## **Assignment 6**"
   ]
  },
  {
   "cell_type": "markdown",
   "metadata": {},
   "source": [
    "### *Conor Bayliss*"
   ]
  },
  {
   "cell_type": "markdown",
   "metadata": {},
   "source": [
    "#### **Introduction and Setup**"
   ]
  },
  {
   "cell_type": "markdown",
   "metadata": {},
   "source": [
    "*Let's return to the simple model of labour supply and programme participation from Assignment 2.*"
   ]
  },
  {
   "cell_type": "markdown",
   "metadata": {},
   "source": [
    "*Consider the following extension to the model. Suppose that each individual $n$ belongs to one of $K$ finite types, $k(n) \\in \\{1,2,...,K\\}$. Types determine differences in the cost of work and programme participation as well as differences in wages:*\n",
    "$$\n",
    "U_{ntj} = \\log(\\max\\{50, Y_{nt}(W_{nt}H_j)\\})+\\alpha_{l,k}\\log(112-H_j)-\\alpha_{P,k,1}\\mathbf{1}\\{P_j>0\\}-\\alpha_{P,k,2}\\mathbf{1}\\{P_j>1\\}\n",
    "$$\n",
    "*and*\n",
    "$$\n",
    "\\log(W_{nt}) = \\gamma_{k,0}+\\gamma_{k,1}\\text{Age}_{nt}+\\gamma_{k,2}\\text{Age}^2_{nt}.\n",
    "$$\n",
    "*So, the parameters $\\alpha_l,\\alpha_P,\\gamma$ are now **heterogeneous by type**.*"
   ]
  },
  {
   "cell_type": "code",
   "execution_count": 1,
   "metadata": {},
   "outputs": [],
   "source": [
    "using Clustering, Makie, CairoMakie"
   ]
  },
  {
   "cell_type": "code",
   "execution_count": 2,
   "metadata": {},
   "outputs": [],
   "source": [
    "using CSV, DataFrames, DataFramesMeta, Optim"
   ]
  },
  {
   "cell_type": "code",
   "execution_count": 3,
   "metadata": {},
   "outputs": [
    {
     "data": {
      "text/plain": [
       "Main.Transfers"
      ]
     },
     "metadata": {},
     "output_type": "display_data"
    }
   ],
   "source": [
    "include(\"C:\\\\Users\\\\bayle\\\\Documents\\\\Github\\\\micro_labour\\\\src\\\\Transfers.jl\")"
   ]
  },
  {
   "cell_type": "code",
   "execution_count": 5,
   "metadata": {},
   "outputs": [
    {
     "data": {
      "text/plain": [
       "(P = [2, 2, 2, 1, 0, 0, 0, 2, 1, 0  …  2, 2, 1, 2, 0, 0, 1, 1, 1, 1], H = [0, 0, 0, 0, 0, 0, 0, 0, 0, 2  …  0, 0, 2, 2, 2, 2, 0, 0, 0, 0], year = [1994, 1995, 1996, 1998, 2000, 2002, 2004, 2006, 2008, 1990  …  1991, 1992, 1991, 1992, 1991, 1992, 1991, 1992, 1991, 1992], age = [21, 22, 23, 25, 27, 29, 31, 33, 35, 17  …  21, 22, 23, 24, 39, 40, 30, 31, 25, 26], soi = [43, 43, 43, 43, 43, 43, 43, 43, 43, 17  …  44, 44, 7, 7, 5, 5, 39, 39, 39, 39], num_kids = [2, 2, 3, 3, 3, 3, 3, 3, 3, 1  …  2, 2, 2, 2, 3, 3, 4, 4, 2, 2], cpi = [0.860812349005761, 0.884959812302546, 0.910948243820851, 0.946664188812488, 1.0, 1.04457233785542, 1.09707768072849, 1.17054218546739, 1.25008130459022, 0.758792510685746  …  0.790785866939231, 0.8148346032336, 0.790785866939231, 0.8148346032336, 0.790785866939231, 0.8148346032336, 0.790785866939231, 0.8148346032336, 0.790785866939231, 0.8148346032336], logwage = [0.0, 0.0, 0.0, 0.0, 1.2039728043259361, 0.0, 0.0, 0.0, 0.0, 0.8230555833449215  …  0.0, 0.0, 2.6512574120409043, 2.3314412292534223, 1.265948758245773, 1.8744481199656744, 0.0, 0.0, 0.0, 0.0], wage_missing = Bool[1, 1, 1, 1, 0, 1, 1, 1, 1, 0  …  1, 1, 0, 0, 0, 0, 1, 1, 1, 1])"
      ]
     },
     "metadata": {},
     "output_type": "display_data"
    }
   ],
   "source": [
    "data = @chain begin\n",
    "    CSV.read(\"C:\\\\Users\\\\bayle\\\\Documents\\\\Github\\\\micro_labour\\\\hw1\\\\hw1_micro_labour_data\\\\MainPanelFile.csv\",DataFrame,missingstring = \"NA\")\n",
    "    #@select :MID :year :wage :hrs :earn :SOI :CPIU :WelfH :FSInd :num_child :age\n",
    "    @subset :year.>=1985 :year.<=2010\n",
    "    @transform :AFDC = :WelfH.>0 \n",
    "    @rename :FS = :FSInd\n",
    "    @transform :P  = :FS + :AFDC :H = min.(2,round.(Union{Int64, Missing},:hrs / (52*20)))\n",
    "    @subset .!ismissing.(:P) .&& .!ismissing.(:H)\n",
    "    @transform @byrow :wage = begin\n",
    "        if :hrs>0 && :earn>0\n",
    "            return :earn / :hrs / :CPIU\n",
    "        else\n",
    "            return missing\n",
    "        end\n",
    "    end\n",
    "end\n",
    "\n",
    "data_mle = (;P = Int64.(data.P), H = Int64.(data.H), year = data.year, age = data.age,\n",
    "            soi = data.SOI, num_kids = data.num_child, cpi = data.CPIU,\n",
    "            logwage = log.(coalesce.(data.wage,1.)),wage_missing = ismissing.(data.wage))"
   ]
  },
  {
   "cell_type": "markdown",
   "metadata": {},
   "source": [
    "#### **Part 1**"
   ]
  },
  {
   "cell_type": "markdown",
   "metadata": {},
   "source": [
    "*Write a routine to classify individuals in the data into one of $K=3$ types using K-means clustering. You may find the package `Clustering.jl` useful.*"
   ]
  },
  {
   "cell_type": "markdown",
   "metadata": {},
   "source": [
    "#### **Part 2**"
   ]
  },
  {
   "cell_type": "markdown",
   "metadata": {},
   "source": [
    "*Calculate and plot average work and average programme participation over time for each of these types. Comment on what you are seeing.*"
   ]
  },
  {
   "cell_type": "markdown",
   "metadata": {},
   "source": [
    "#### **Part 3**"
   ]
  },
  {
   "cell_type": "markdown",
   "metadata": {},
   "source": [
    "*Write code to estimate this extended model. You could just make a small extension to the maximum likelihood estimator you used in Assignment 2, or you could try another approach if your prefer.*"
   ]
  }
 ],
 "metadata": {
  "kernelspec": {
   "display_name": "Julia 1.10.1",
   "language": "julia",
   "name": "julia-1.10"
  },
  "language_info": {
   "file_extension": ".jl",
   "mimetype": "application/julia",
   "name": "julia",
   "version": "1.10.1"
  }
 },
 "nbformat": 4,
 "nbformat_minor": 2
}
